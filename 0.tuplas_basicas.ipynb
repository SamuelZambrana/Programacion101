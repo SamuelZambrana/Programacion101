{
 "cells": [
  {
   "cell_type": "markdown",
   "metadata": {},
   "source": [
    "# Ejercícios Básicos de Tuplas\n",
    "\n",
    "-----------------"
   ]
  },
  {
   "cell_type": "markdown",
   "metadata": {},
   "source": [
    "## (0) BMI again\n",
    "\n",
    "Vuelve a crear la función `bmi`, pero ahora debe de devolver una `tuple[float, str]` con el índice y su clasificación. Recuerda la fórmula, usando Kg para el peso y m para la altura:\n",
    "\n",
    "$$bmi = \\frac{peso}{altura^{2}}$$\n",
    "\n",
    "y usa esta clasificación. \n",
    "\n",
    "\n",
    "* \"Delgado\"  : bmi < 18.5 \n",
    "* \"Saludable\": 18.5 < bmi < 24.9\n",
    "* \"Gordito\"  : 25 a 29.9\n",
    "* \"Gordo\"    : 30 a 34.9\n",
    "* \"Obeso\"    : 35 a 39.9\n",
    "* \"Jabba the Hutt\" : más de 40\n",
    "\n",
    "\n",
    "Recuerda qu ehay dos problemas, obtener el índice y luego la clasificación. Usa Divide & Vencerás.\n",
    "\n"
   ]
  },
  {
   "cell_type": "code",
   "execution_count": 4,
   "metadata": {},
   "outputs": [],
   "source": [
    "def bmi_calculator(height, weight):\n",
    "    bmi = weight/(height**2)\n",
    "    \n",
    "    if bmi< 0:\n",
    "        calify = \"ERROR\"\n",
    "    elif  bmi < 18.5:\n",
    "        calify = \"Delgado\"  \n",
    "    elif  bmi < 24.9:\n",
    "        calify = \"Saludable\"\n",
    "    elif  bmi < 29.9:\n",
    "        calify = \"Gordito\"\n",
    "    elif  bmi <  34.9:\n",
    "        calify = \"Gordo\" \n",
    "    elif  bmi <  39.9:\n",
    "        calify = \"Obeso\"\n",
    "    else:\n",
    "        calify = \"Jabba the Hutt\"\n",
    "    return bmi, calify"
   ]
  },
  {
   "cell_type": "code",
   "execution_count": 8,
   "metadata": {},
   "outputs": [
    {
     "data": {
      "text/plain": [
       "(71.11111111111111, 'Jabba the Hutt')"
      ]
     },
     "execution_count": 8,
     "metadata": {},
     "output_type": "execute_result"
    }
   ],
   "source": [
    "bmi_calculator(1.50, 160)"
   ]
  },
  {
   "cell_type": "markdown",
   "metadata": {},
   "source": [
    "## (1) Una tupla para representar un empleado\n",
    "\n",
    "Usa una tupla para representar un empleado. Necesitas la siguiente información:\n",
    "\n",
    "* Nombre\n",
    "* Apellidos\n",
    "* Departamento (Ventas, Administración, etc...)\n",
    "* Nómina\n",
    "\n",
    "\n",
    "1. ¿Cual debería de ser el tamaño y el tipo de esa tupla? Define su tipo\n",
    "2. Crea la función `make_employee`  que recibe esa información mediante parametros y devuelve la tupla.\n",
    "3. Usa el desempaquetado para obtener después de llamarla:\n",
    "   1. La tupla completa\n",
    "   2. El nombre y el apellido\n",
    "   3. Sólo la nómina"
   ]
  },
  {
   "cell_type": "code",
   "execution_count": 19,
   "metadata": {},
   "outputs": [],
   "source": [
    "from collections import namedtuple\n",
    "def make_employee(name,surname,departament,salary):\n",
    "    Empleado = namedtuple('Empleado', 'Nombre Apellido Departamento Salario')\n",
    "    new_employed = Empleado(name, surname,departament,salary)\n",
    "    pepe= Empleado('pepe', 'rodriguez','marquetin',123123 )\n",
    "    return new_employed\n"
   ]
  },
  {
   "cell_type": "code",
   "execution_count": null,
   "metadata": {},
   "outputs": [],
   "source": [
    "def make_employeezero(name,surname,departament,salary):\n",
    "    \n",
    "    new_employed = (name, surname,departament,salary)\n",
    "    return new_employed"
   ]
  },
  {
   "cell_type": "code",
   "execution_count": 14,
   "metadata": {},
   "outputs": [],
   "source": [
    "\n",
    "paco =make_employee('Paco', 'Lopez', 'Almacen', 12000)\n",
    "andres =make_employee('Andres', 'Marquez', 'Administració', 16000)"
   ]
  },
  {
   "cell_type": "code",
   "execution_count": null,
   "metadata": {},
   "outputs": [],
   "source": [
    "\n"
   ]
  },
  {
   "cell_type": "markdown",
   "metadata": {},
   "source": [
    "## (3) Igualdad\n",
    "\n",
    "Comprueba si Python te permite comparar directamente mediante `==`  dos tuplas para saber si son iguales o no. Prueba con datos que sabes que son iguales y datos que sabes que son distintos.\n"
   ]
  },
  {
   "cell_type": "code",
   "execution_count": 16,
   "metadata": {},
   "outputs": [],
   "source": [
    "def are_equal_tuples(tupla1, tupla2):\n",
    "    return tupla1 == tupla2"
   ]
  },
  {
   "cell_type": "code",
   "execution_count": 18,
   "metadata": {},
   "outputs": [
    {
     "data": {
      "text/plain": [
       "False"
      ]
     },
     "execution_count": 18,
     "metadata": {},
     "output_type": "execute_result"
    }
   ],
   "source": [
    "are_equal_tuples(paco, andres)"
   ]
  },
  {
   "cell_type": "markdown",
   "metadata": {},
   "source": [
    "## (4) Sets & Tuplas\n",
    "\n",
    "Comprueba si puedes usar tuplas como elementos de un `set` y si puedes averiguar si una tupla está o no en un set.\n"
   ]
  },
  {
   "cell_type": "code",
   "execution_count": 23,
   "metadata": {},
   "outputs": [],
   "source": [
    "newset = set()\n",
    "def set_of_tuples(tupleset, tupla):\n",
    "    tupleset.add(tupla)\n",
    "    return tupleset"
   ]
  },
  {
   "cell_type": "code",
   "execution_count": 24,
   "metadata": {},
   "outputs": [
    {
     "name": "stdout",
     "output_type": "stream",
     "text": [
      "set()\n",
      "{Empleado(Nombre='Andres', Apellido='Marquez', Departamento='Administració', Salario=16000), Empleado(Nombre='Paco', Apellido='Lopez', Departamento='Almacen', Salario=12000)}\n"
     ]
    }
   ],
   "source": [
    "print(newset)\n",
    "newset = set_of_tuples(newset, paco)\n",
    "newset = set_of_tuples(newset, andres)\n",
    "print(newset)"
   ]
  },
  {
   "cell_type": "markdown",
   "metadata": {},
   "source": [
    "## (5) `copy_employee`\n",
    "\n",
    "Estás creando un sistema de gestión de recursos humanos utilizando la tupla `Employee` ya mencionada. Con frecuencia necesitas crear un nuevo empleado muy parecido a uno existente.\n",
    "Por ejemplo, todos los empleados de ventas empiezan con el mismo sueldo básico y en el mismo departamento (ventas). \n",
    "\n",
    "Estás ya harto de tener que llamara a `make_employee`. Quieres algo mejor, alque que pueda crear un `Employee`, no a partir de la nada, sino a partir de uno existente, usándolo como patrón\n",
    "cambiando sólo aquello que haga falta.\n",
    "\n",
    "Algo así:\n",
    "\n",
    "```Python\n",
    "vader = make_employee(\"Anakin\", \"Skywalker\", \"Management\", 60000) # un empleado\n",
    "luke = copy_employee(name=\"Luke\", department=\"Sales\") # nuevo empleado con dos datos diferentes: lo demás se aprovecha\n",
    "```\n",
    "\n",
    "La firma de tu función es la siguiente. Rellena lo qu efalta y comprueba que funciona."
   ]
  },
  {
   "cell_type": "code",
   "execution_count": null,
   "metadata": {},
   "outputs": [],
   "source": []
  },
  {
   "cell_type": "code",
   "execution_count": null,
   "metadata": {},
   "outputs": [],
   "source": []
  },
  {
   "cell_type": "code",
   "execution_count": 32,
   "metadata": {},
   "outputs": [],
   "source": [
    "Employee = tuple[str, str, str, float] # name, surname, department, salary\n",
    "OptionalString = str | None\n",
    "OptionalFloat = float | None\n",
    "\n",
    "def copy_employee(employee: Employee, \n",
    "                    name: OptionalString = None, \n",
    "                    surname: OptionalString = None, \n",
    "                    department: OptionalString = None, \n",
    "                    salary: OptionalFloat = None)-> Employee:\n",
    "    \"\"\"\n",
    "    Crea un empleado a partir de otro\n",
    "    Recibe un empleado y opcionalmente nuevos valores. Si alguno de los valores es distinto de None, se usa dicho valor \n",
    "    para el nueuvo empleado que se va a crear. Sino, se usa el valor del empleado patrón que se recibe.\n",
    "    \"\"\"\n",
    "   \n",
    "    employeennew = namedtuple('Empleado', 'Nombre Apellido Departamento Salario')\n",
    "    \n",
    "    old_name,old_surname,old_department,old_salary = employee\n",
    "    if name == None:\n",
    "        new_name = old_name\n",
    "    else:\n",
    "        new_name = name\n",
    "    if surname == None:\n",
    "        new_surname = old_surname\n",
    "    else:\n",
    "        new_surname = surname\n",
    "    \n",
    "    if department == None:\n",
    "        new_department = old_department\n",
    "    else:\n",
    "        new_department = department\n",
    "    if salary == None:\n",
    "        new_salary= old_salary\n",
    "    else:\n",
    "        new_salary = salary\n",
    "    new_employed = employeennew(new_name,new_surname,new_department,new_salary)\n",
    "    return new_employed\n",
    "\n"
   ]
  },
  {
   "cell_type": "code",
   "execution_count": null,
   "metadata": {},
   "outputs": [],
   "source": [
    "Employee = tuple[str, str, str, float] # name, surname, department, salary\n",
    "OptionalString = str | None\n",
    "OptionalFloat = float | None\n",
    "\n",
    "def copy_employee2(employee: Employee, \n",
    "                    name: OptionalString = None, \n",
    "                    surname: OptionalString = None, \n",
    "                    department: OptionalString = None, \n",
    "                    salary: OptionalFloat = None)-> Employee:\n",
    "    \"\"\"\n",
    "    Crea un empleado a partir de otro\n",
    "    Recibe un empleado y opcionalmente nuevos valores. Si alguno de los valores es distinto de None, se usa dicho valor \n",
    "    para el nueuvo empleado que se va a crear. Sino, se usa el valor del empleado patrón que se recibe.\n",
    "    \"\"\"\n",
    "   \n",
    "    employeennew = namedtuple('Empleado', 'Nombre Apellido Departamento Salario')\n",
    "    \n",
    "    new_name,new_surname,new_department,new_salary = employee\n",
    "    if name != None:\n",
    "        new_name = name\n",
    "    if surname != None:\n",
    "        new_surname = surname\n",
    "    if department != None:\n",
    "        new_department = department\n",
    "    if salary != None:\n",
    "        new_salary= salary\n",
    "    new_employed = employeennew(new_name,new_surname,new_department,new_salary)\n",
    "    return new_employed"
   ]
  },
  {
   "cell_type": "code",
   "execution_count": 33,
   "metadata": {},
   "outputs": [
    {
     "data": {
      "text/plain": [
       "Empleado(Nombre='juan', Apellido='Lopez', Departamento='Almacen', Salario=16000)"
      ]
     },
     "execution_count": 33,
     "metadata": {},
     "output_type": "execute_result"
    }
   ],
   "source": [
    "copy_employee( employee = paco, name ='juan'  , salary = 16000)"
   ]
  }
 ],
 "metadata": {
  "kernelspec": {
   "display_name": "Python 3",
   "language": "python",
   "name": "python3"
  },
  "language_info": {
   "codemirror_mode": {
    "name": "ipython",
    "version": 3
   },
   "file_extension": ".py",
   "mimetype": "text/x-python",
   "name": "python",
   "nbconvert_exporter": "python",
   "pygments_lexer": "ipython3",
   "version": "3.12.0"
  }
 },
 "nbformat": 4,
 "nbformat_minor": 2
}
