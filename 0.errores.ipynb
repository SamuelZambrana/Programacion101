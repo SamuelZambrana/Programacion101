{
 "cells": [
  {
   "cell_type": "markdown",
   "metadata": {},
   "source": [
    "# Ejercicios de Excepciones\n",
    "\n",
    "--------------------------------"
   ]
  },
  {
   "cell_type": "markdown",
   "metadata": {},
   "source": [
    "## (0) Densidad\n",
    "\n",
    "la fórmula para la densidad es la siguiente:\n",
    "\n",
    "$$densidad = \\frac{Masa}{Volumen}$$\n",
    "\n",
    "Crea la función `density` que recibe esos dos parámetros y calcula la densidad.\n",
    "\n",
    "**Problemas**\n",
    "\n",
    "* El usuario podría pasar algún valor negativo.\n",
    "> \n",
    "* El usuario podría pasar un `Volumen` cero.\n",
    "\n",
    "1. ¿Qué tipo de errores son (de dominio, pánico o externo)?\n",
    "> Es un error de dominio. Si es posible gestionar el error dentro de la propia función donde se produce, sin tener que lanzar excepciones, hazlo.\n",
    "\n",
    "2. ¿Deberías gestionarlos?\n",
    "\n",
    "1. En tu función, nada más entrar, comprueba que ambos parámetros son positivos (mayores que cero) y sino, lanza un `ValueError`.\n",
    "2. Llama a la función desde un bloque `try / except` que captura `ValueError` nada más\n",
    "3. Llama a la función pasando un volumen cero. ¿Qué ocurre?\n",
    "4. Captura la excepción de división por cero en otro bloque except y avisa al usuario que acaba de crear un agujero negro"
   ]
  },
  {
   "cell_type": "code",
   "execution_count": 2,
   "metadata": {},
   "outputs": [],
   "source": [
    "def density(mass, volume):\n",
    "    if mass < 0 or volume < 0:\n",
    "        raise ValueError('Masa y volumen deben ser positivos.')\n",
    "    else:\n",
    "        return mass/volume"
   ]
  },
  {
   "cell_type": "code",
   "execution_count": 15,
   "metadata": {},
   "outputs": [
    {
     "name": "stdout",
     "output_type": "stream",
     "text": [
      "Amigo la has liado Masa y volumen deben ser positivos.\n",
      "0\n"
     ]
    }
   ],
   "source": [
    "\n",
    "d=0\n",
    "try:\n",
    "    d=density(-123, 0)\n",
    "except ValueError as error:\n",
    "    print ('Amigo la has liado',error)\n",
    "except ZeroDivisionError as error3:\n",
    "    print(error3)\n",
    "print(d)\n"
   ]
  },
  {
   "cell_type": "markdown",
   "metadata": {},
   "source": [
    "## (1) BMI\n",
    "\n",
    "Crea una función para obtener el índice de masa corporal con la altura en m y el peso en kilos:\n",
    "\n",
    "$$bmi = \\frac{peso}{altura^{2}}$$\n",
    "\n",
    "1. Si el peso está fuera del rango 30 - 200, debe de lanzar una excepción `ValueError` indicando que el peso está fuera de rango\n",
    "2. Si la altura está fuera del rango 1.3 - 2.0, debe de lanzar una excepción `ValueError` indicando que el peso está fuera de rango\n",
    "3. Asegúrate de guardar en el `ValueError` el parámetro que ha dado problemas, el rango aceptable y el valor que causó el problema\n",
    "4. Al llamarla, captura `ValueError`  y sólo `ValueError` y extrae la info que lleva dentro para imprimirla\n",
    "5. Modifica BMI para que lance otra excepción y comprueba como no es capturada\n",
    "\n",
    "\n",
    "**Extra**\n",
    "\n",
    "Crea la función `bmi_repl` que mediante un bucle while infinito le permite al usuario calcular varios BMIs o salir del repl (usa un menu para eso). Si se produce una excepción, asegúrate de capturarla, explicar al usuario lo ocurrido y reiniciar el cálculo.\n",
    "    \n"
   ]
  },
  {
   "cell_type": "code",
   "execution_count": 14,
   "metadata": {},
   "outputs": [],
   "source": [
    "def bmi(peso, altura):\n",
    "    if peso< 30 or peso > 200:\n",
    "        raise ValueError ('Peso fuera de rango','30-200', peso)\n",
    "    if altura < 1.3 or altura >2.0:\n",
    "        raise ValueError('Altura fuera de rango','1.3 - ', altura)\n",
    "    return peso/altura**2\n",
    "\n",
    "\n"
   ]
  },
  {
   "cell_type": "code",
   "execution_count": 18,
   "metadata": {},
   "outputs": [
    {
     "name": "stdout",
     "output_type": "stream",
     "text": [
      "Error Peso chungo, valores validos 30-200, valor introducido1\n"
     ]
    }
   ],
   "source": [
    "try:\n",
    "    bmi(1, 12)\n",
    "except ValueError as error:\n",
    "    print('Error {}, valores validos {}, valor introducido{}'.format(error.args[0],error.args[1],error.args[2]) )\n",
    "except ZeroDivisionError as error:\n",
    "    print(error)"
   ]
  },
  {
   "cell_type": "markdown",
   "metadata": {},
   "source": [
    "## (2) Pendiente de una Línea en Geometría de Coordenadas\n",
    "\n",
    "La pendiente de una línea se calcula dividiendo la diferencia en las coordenadas y por la diferencia en las coordenadas x de dos puntos en la línea.\n",
    "\n",
    "La fórmula es la siguiente:\n",
    "\n",
    "$$\\text{Pendiente} = \\frac{y_2 - y_1}{x_2 - x_1}$$\n",
    "\n",
    "* Crea la función `slope(x1, y1, x2, y2)` que recibe las coordenadas de dos puntos y devuelve un `float` con la pendiente de la recta que los une.\n",
    "\n",
    "Si los componentes x son iguales se provocaría una excepción de división por cero. No quiero eso. Mis usuarios son matemáticos y lo que quieren ver\n",
    "en ese caso es que la pendiente es infinita.\n",
    "\n",
    "* ¿Qué tipo de error es este?\n",
    "* Modifica la función para que capture la excepción de división por cero y en ese caso devuelva `float('inf')`, que es la forma de representar un número infinito en Python\n",
    "\n"
   ]
  },
  {
   "cell_type": "code",
   "execution_count": 25,
   "metadata": {},
   "outputs": [],
   "source": [
    "def slope(x1, y1, x2, y2):\n",
    "    try:\n",
    "        return (y2-y1)/(x2-x1)\n",
    "    except ZeroDivisionError:\n",
    "        return float('inf')\n",
    "  \n"
   ]
  },
  {
   "cell_type": "code",
   "execution_count": 29,
   "metadata": {},
   "outputs": [
    {
     "data": {
      "text/plain": [
       "1.5"
      ]
     },
     "execution_count": 29,
     "metadata": {},
     "output_type": "execute_result"
    }
   ],
   "source": [
    "slope(3, 3, 5, 6)"
   ]
  },
  {
   "cell_type": "markdown",
   "metadata": {},
   "source": [
    "## (3) LISP\n",
    "\n",
    "Un marca de ascensores desarrolla un nuevo lenguaje para programarlos. El lenguaje se llama \"Lots of Insignificant Silly Parenthesis\" (LISP) e indica a qué planta debe de dirigirse el ascensor, con una cadena que consiste sólo de paréntesis.\n",
    "\n",
    "Suponiendo que la planta baja es la 0, cada vez que se encuentra con un `(` indica que debe de subir una planta, y cada vez que se encuentra con una `)` indica que debe de bajar una planta. El valor final, es la planta de destino.\n",
    "\n",
    "Por ejemplo:\n",
    "\n",
    "* `''` la cadena vacía indica que debe de ir a planta 0\n",
    "* `(((()` indica que la planta de destino es la 3\n",
    "* `))(`  indica que la planta de destino es la -1\n",
    "\n",
    "** Sintaxis de LISP **\n",
    "\n",
    "El texto del lenguaje sólo puede estar compuesto por paréntesis o espacios en blanco. Los espacios en blanco son ignorados.\n",
    "\n",
    "** Tarea Principal **\n",
    "\n",
    "Tienes que crear una función `check` que recibe un programa de LISP (como una cadena) y devuelve un `bool`. Si el programa tiene la sintáxis correcta (una secuencia de paréntesis o espacios en blanco), devuelve `True`. Si el programa contiene cualquier otro caracter en cualquier posición, lanza la excepción `SyntaxError` (que existe en Python) para indicar que la sintaxis es erronea.\n",
    "\n",
    "Por ejemplo,\n",
    "\n",
    "* `check(\"\")`: Correcto\n",
    "* `check(\"       \")`: Correcto\n",
    "* `check(\"((()))\")`: Correcto\n",
    "* `check(\"(((((A)))))\")`: Incorrecto\n",
    "* `check(\"(😄(((()))))\")`: Incorrecto\n",
    "\n",
    "Considera que lso caracteres en blanco con el \" \", el tabulador `\\t` y los saltos de línea (`\\r` y `\\n`)\n",
    "\n",
    "Crea ahora la función `read(lisp)` que recibe un programa en LISP como una cadena, y llama a `check` para comprobar si es correcto. Si lanza la excepción `SyntaxError`, captúrala y muestra al usuario (con print) el mensaje que haya en ella. \n",
    "\n",
    "Dicho mensaje tendrá que haber sido insertado por `check`  cuando se encuentra con un primer caracter erroneo. Debe de contener lo siguiente:\n",
    "\n",
    "* caracter indebido\n",
    "* posición en la que estaba"
   ]
  },
  {
   "cell_type": "code",
   "execution_count": 98,
   "metadata": {},
   "outputs": [],
   "source": [
    "def check(orden):\n",
    "    index = 0\n",
    "    while index<len(order)\n",
    "    for comando in orden:\n",
    "        if comando not in ('', ' ', '\\t','\\r','\\n','(',')'):\n",
    "            raise SyntaxError ('Comando incorrecto en la posicion {}: ({}) no es parametro aceptado'.format(index,comando))\n",
    "        index+=1\n",
    "        \n",
    "    return True\n",
    "\n",
    "        \n"
   ]
  },
  {
   "cell_type": "code",
   "execution_count": 116,
   "metadata": {},
   "outputs": [
    {
     "data": {
      "text/plain": [
       "True"
      ]
     },
     "execution_count": 116,
     "metadata": {},
     "output_type": "execute_result"
    }
   ],
   "source": [
    "check(\"\\\")"
   ]
  },
  {
   "cell_type": "code",
   "execution_count": 117,
   "metadata": {},
   "outputs": [],
   "source": [
    "def read(lisp):\n",
    "    try:\n",
    "        parsed=parse(lisp, check(lisp))\n",
    "    except SyntaxError as err:\n",
    "      print(err)\n",
    "    return parsed"
   ]
  },
  {
   "cell_type": "code",
   "execution_count": 115,
   "metadata": {},
   "outputs": [
    {
     "name": "stdout",
     "output_type": "stream",
     "text": [
      "(())(()())\n"
     ]
    }
   ],
   "source": [
    "read('(( ))\\n(()   ())')"
   ]
  },
  {
   "cell_type": "markdown",
   "metadata": {},
   "source": [
    "## (3.1) Para valientes\n",
    "\n",
    "   \n",
    "1. Crea la función `parse(lisp)` que recibe un programa en LISP y si pasa el `check`, lo limpia de caracteres en blanco. Devuelve una cadena que sólo tiene paréntesis. No hagas trampa y usa un for o un while.\n",
    "2. Cambia `read` para que después de llamar a `check` llame a `parse` y guarde el resultado en una variable\n",
    "3. Crea la función `eval(lisp)` que recibe una cadena correcta y limpia de caracteres en blanco (lo que sale de ``parse``) y devuelve el número que representa.\n",
    "4. Crea un script de Python que sirve para evaluar expresiones en LISP:\n",
    "   1. Mediante un bucle infinito, repite las siguientes tareas:\n",
    "      1. Pide al usuario una expresión en LISP, o la opción de salir (crea un menú para eso)\n",
    "      2. Si se produce una excepción de sintaxis, indica al usuario el error y donde se produjo\n",
    "      3. Si se produce cualquier otra excepción, el programa debe de caerse (es un pánico).\n",
    "      4. Si no se produce ningún error, imprime el resultado de esa expresión y empieza de nuevo"
   ]
  },
  {
   "cell_type": "code",
   "execution_count": 118,
   "metadata": {},
   "outputs": [],
   "source": [
    "\n",
    "def eval (lisp):\n",
    "    move = 0\n",
    "    \n",
    "    checked_n_parsed = read(lisp)\n",
    "    if checked_n_parsed ==0:\n",
    "        move = 0\n",
    "    else:\n",
    "        for command in checked_n_parsed:\n",
    "            \n",
    "            if command == '(':\n",
    "                move = move + 1\n",
    "            else:\n",
    "                move = move - 1\n",
    "    return move\n",
    "            \n",
    "    \n",
    "    "
   ]
  },
  {
   "cell_type": "code",
   "execution_count": 119,
   "metadata": {},
   "outputs": [
    {
     "data": {
      "text/plain": [
       "2"
      ]
     },
     "execution_count": 119,
     "metadata": {},
     "output_type": "execute_result"
    }
   ],
   "source": [
    "eval('((()')"
   ]
  },
  {
   "cell_type": "code",
   "execution_count": 114,
   "metadata": {},
   "outputs": [],
   "source": [
    "def parse(lisp, checked=False):\n",
    "    parse_lisp=''\n",
    "    try:\n",
    "        if checked or check(lisp):\n",
    "            \n",
    "            for comando in lisp:\n",
    "                if comando not in ('', ' ', '\\t','\\r','\\n'):\n",
    "                    parse_lisp = parse_lisp + comando\n",
    "\n",
    "    except SyntaxError as err:\n",
    "      print(err)\n",
    "    return parse_lisp\n",
    "    "
   ]
  },
  {
   "cell_type": "code",
   "execution_count": 95,
   "metadata": {},
   "outputs": [
    {
     "data": {
      "text/plain": [
       "'(())(()())'"
      ]
     },
     "execution_count": 95,
     "metadata": {},
     "output_type": "execute_result"
    }
   ],
   "source": [
    "parse('(())\\t(()())')"
   ]
  },
  {
   "cell_type": "markdown",
   "metadata": {},
   "source": [
    "## (3.2) Para saber más\n",
    "\n",
    "Lisp es un lenguaje real que no se merecía esta tomadura de pelo. Es el segundo lenguaje más antiguo que aún se utiliza (el primero es fortran) y ha tenido una influencia enorme en toda la ciencia de la computación. ¡Aprende algo más sobre Lisp, empezando por el significado de su nombre!\n",
    "\n",
    "Por cierto, ¿te das cuenta que has creado los rudimentos de un lenguaje de programación y su intérprete?"
   ]
  }
 ],
 "metadata": {
  "kernelspec": {
   "display_name": "Python 3",
   "language": "python",
   "name": "python3"
  },
  "language_info": {
   "codemirror_mode": {
    "name": "ipython",
    "version": 3
   },
   "file_extension": ".py",
   "mimetype": "text/x-python",
   "name": "python",
   "nbconvert_exporter": "python",
   "pygments_lexer": "ipython3",
   "version": "3.11.6"
  }
 },
 "nbformat": 4,
 "nbformat_minor": 2
}
