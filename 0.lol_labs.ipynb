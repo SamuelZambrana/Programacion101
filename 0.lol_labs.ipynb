{
 "cells": [
  {
   "attachments": {},
   "cell_type": "markdown",
   "metadata": {},
   "source": [
    "# Ejercicios de lol\n",
    "\n",
    "\n",
    "---------------------------\n"
   ]
  },
  {
   "attachments": {},
   "cell_type": "markdown",
   "metadata": {},
   "source": [
    "\n",
    "#### (0) Función `is_lol`\n",
    "\n",
    "Crea la función `is_lol` que recibe una lista y devuelve `True` si se trata de un lol (una lista de listas) y `False` en caso contrario.\n",
    "\n",
    "En este ejercício no necesitas dos bucles, te basta con uno. Usa for o while, lo que prefieras.\n",
    "\n",
    "1. ¿Qué tipo de función es?\n",
    "2. Re-escríbela con la indicación de tipo de su retorno\n"
   ]
  },
  {
   "attachments": {},
   "cell_type": "markdown",
   "metadata": {},
   "source": [
    "#### (1) Indicación de tipo\n",
    "\n",
    "Si la indicación de tipo para una lista cualquiera es `list`, \n",
    "\n",
    "1. ¿Cual sería la de un lol?\n",
    "2. ¿Y un lol de enteros?"
   ]
  },
  {
   "cell_type": "code",
   "execution_count": 2,
   "metadata": {},
   "outputs": [],
   "source": [
    "def is_lol(list_of_list:list[list])->bool:\n",
    "    is_lol_ans = False\n",
    "    for element in list_of_list:\n",
    "        if type(element)== list:\n",
    "            is_lol_ans = True\n",
    "        else:\n",
    "            is_lol_ans = False\n",
    "            break\n",
    "    return is_lol_ans\n",
    "            "
   ]
  },
  {
   "cell_type": "code",
   "execution_count": 3,
   "metadata": {},
   "outputs": [
    {
     "data": {
      "text/plain": [
       "True"
      ]
     },
     "execution_count": 3,
     "metadata": {},
     "output_type": "execute_result"
    }
   ],
   "source": [
    "is_lol([[8,4],['a'],[]])"
   ]
  },
  {
   "attachments": {},
   "cell_type": "markdown",
   "metadata": {},
   "source": [
    "#### (2) ¿Qué hace esta función?\n",
    "\n",
    "Explica lo que hace y rellena lo que falta.\n",
    "\n",
    "\n",
    "```Python\n",
    "def mistery(lol):\n",
    "    accum = ???\n",
    "    for element in lol:\n",
    "        accum = accum + len(???)\n",
    "    return accum\n",
    "```\n",
    "\n",
    "1. Dale un mejor nombre\n",
    "2. Pon su información de tipo en parámetro y retorno"
   ]
  },
  {
   "cell_type": "code",
   "execution_count": 4,
   "metadata": {},
   "outputs": [],
   "source": [
    "def len_of_lol(lol:list[list])->int:\n",
    "    accum = 0\n",
    "    for element in lol:\n",
    "        accum = accum + len(element)\n",
    "    return accum"
   ]
  },
  {
   "cell_type": "code",
   "execution_count": 5,
   "metadata": {},
   "outputs": [
    {
     "data": {
      "text/plain": [
       "3"
      ]
     },
     "execution_count": 5,
     "metadata": {},
     "output_type": "execute_result"
    }
   ],
   "source": [
    "len_of_lol([[8,4],['a'],[]])"
   ]
  },
  {
   "attachments": {},
   "cell_type": "markdown",
   "metadata": {},
   "source": [
    "#### (2) sum_lol\n",
    "\n",
    "\n",
    "Crea la función `sum_lol` que recibe un lol de números y devuelve un número con la suma de todos los números en él.\n",
    "\n",
    "1. Cuando la tengas, añade la indiciación de tipo a parámetro y retorno. Supón que acepta y devuelve tanto `int` como `float`.\n",
    "2. ¿Qué tipo de función es?"
   ]
  },
  {
   "cell_type": "code",
   "execution_count": 6,
   "metadata": {},
   "outputs": [],
   "source": [
    "def sum_lol(lol:list[list[int|float]])->int|float:\n",
    "    sum = 0\n",
    "    for element in lol:\n",
    "        for subelement in element:\n",
    "            sum = sum + subelement\n",
    "    return sum"
   ]
  },
  {
   "cell_type": "code",
   "execution_count": 7,
   "metadata": {},
   "outputs": [
    {
     "data": {
      "text/plain": [
       "48"
      ]
     },
     "execution_count": 7,
     "metadata": {},
     "output_type": "execute_result"
    }
   ],
   "source": [
    "sum_lol([[1,2,3,4],[5,6,7,8],[9,0,1,2]])"
   ]
  },
  {
   "attachments": {},
   "cell_type": "markdown",
   "metadata": {},
   "source": [
    "#### (3) power_lol\n",
    "\n",
    "Crea la función `power_lol` que recibe un lol de números y devuelve un número con el producto de todos los números en él.\n",
    "\n",
    "1. Cuando la tengas, añade la indiciación de tipo a parámetro y retorno. Supón que acepta y devuelve tanto `int` como `float`.\n",
    "2. ¿Qué tipo de función es?"
   ]
  },
  {
   "cell_type": "code",
   "execution_count": 8,
   "metadata": {},
   "outputs": [],
   "source": [
    "def power_lol(lol:list[list[int|float]])->int|float:\n",
    "    product = 1\n",
    "    for element in lol:\n",
    "        for subelement in element:\n",
    "            product = product * subelement\n",
    "    return product"
   ]
  },
  {
   "cell_type": "code",
   "execution_count": 9,
   "metadata": {},
   "outputs": [
    {
     "data": {
      "text/plain": [
       "2903040"
      ]
     },
     "execution_count": 9,
     "metadata": {},
     "output_type": "execute_result"
    }
   ],
   "source": [
    "power_lol([[1,2,3,4],[5,6,7,8],[9,4,1,2]])"
   ]
  },
  {
   "attachments": {},
   "cell_type": "markdown",
   "metadata": {},
   "source": [
    "#### (4) power_lol y  sum_lol\n",
    "\n",
    "1. ¿En qué se parecen a las versiones de dichas funciones para listas planas?\n",
    "2. ¿Se podrían implementar en base a la versión para lista plana?"
   ]
  },
  {
   "attachments": {},
   "cell_type": "markdown",
   "metadata": {},
   "source": [
    "#### (5) longitud y tamaño\n",
    "\n",
    "1. ¿Cual es la diferencia entre el tamaño y la longitud de un lol?\n",
    ">tamaño seria el numero total de elementos y longitud seria en numero de listas contenidas en la lista principal\n",
    "\n",
    "2. ¿Cómo calcularías el *tamaño* de un lol? sumando los len de cada lista"
   ]
  },
  {
   "attachments": {},
   "cell_type": "markdown",
   "metadata": {},
   "source": [
    "#### (6) lol_size\n",
    "\n",
    "Crea la función `lol_size` que recibe un lol, de cualquier tipo de elemento, y devuelve un entero con el tamaño del lol.\n",
    "\n",
    "1. ¿Qué tipo de función es?\n",
    "2. Añade la indicación de tipos tanto al retorno como al parámetro.\n",
    "   "
   ]
  },
  {
   "cell_type": "code",
   "execution_count": 10,
   "metadata": {},
   "outputs": [],
   "source": [
    "def lol_size(lol:list[list[int|float]])->int|float:\n",
    "    sum = 0\n",
    "    for element in lol:\n",
    "        sum = sum + len(element)\n",
    "    return sum"
   ]
  },
  {
   "attachments": {},
   "cell_type": "markdown",
   "metadata": {},
   "source": [
    "#### (7) has_equal_lengths\n",
    "\n",
    "Crea la función `has_equal_lengths` que recibe un lol y devuelve un booleano indicando si todos los elementos (las sublistas del lol) tienen el mismo tamaño.\n",
    "\n",
    "1. ¿Qué tipo de función es?\n",
    "2. Añade la indicación de tipos tanto al retorno como al parámetro.\n",
    "   "
   ]
  },
  {
   "cell_type": "code",
   "execution_count": 11,
   "metadata": {},
   "outputs": [],
   "source": [
    "def has_equal_lengths(lol:list[list[int|float]])->bool:\n",
    "    equal_lengths = True\n",
    "    index = 0\n",
    "    \n",
    "    while equal_lengths and len(lol)>index+1:\n",
    "        length = len(lol[index])\n",
    "        index += 1\n",
    "        if length != len(lol[index]):\n",
    "            equal_lengths = False\n",
    "    return equal_lengths\n",
    "            "
   ]
  },
  {
   "cell_type": "code",
   "execution_count": 12,
   "metadata": {},
   "outputs": [
    {
     "data": {
      "text/plain": [
       "True"
      ]
     },
     "execution_count": 12,
     "metadata": {},
     "output_type": "execute_result"
    }
   ],
   "source": [
    "has_equal_lengths([])"
   ]
  },
  {
   "attachments": {},
   "cell_type": "markdown",
   "metadata": {},
   "source": [
    "#### (8) has_longer_than\n",
    "\n",
    "Crea la función `has_longer_than` que recibe un lol y un entero `max_len`. Devuelve un booleano si el lol tiene al menos un elemento con una longitud mayor que `max_len`.\n",
    "\n",
    "1. ¿Qué tipo de función es?\n",
    "2. Añade la indicación de tipos tanto al retorno como al parámetro.\n",
    "   "
   ]
  },
  {
   "cell_type": "code",
   "execution_count": 13,
   "metadata": {},
   "outputs": [],
   "source": [
    "def has_longer_than(lol:list[list[int|float]], max_len:int)->bool:\n",
    "    has_longer = False\n",
    "    index = 0\n",
    "    \n",
    "    while not has_longer and len(lol)>index:\n",
    "        if max_len < len(lol):\n",
    "            has_longer = True\n",
    "        index += 1\n",
    "    return has_longer"
   ]
  },
  {
   "cell_type": "code",
   "execution_count": 14,
   "metadata": {},
   "outputs": [
    {
     "data": {
      "text/plain": [
       "True"
      ]
     },
     "execution_count": 14,
     "metadata": {},
     "output_type": "execute_result"
    }
   ],
   "source": [
    "has_longer_than([\n",
    "    [1, 2, 3,2,2],\n",
    "    [4, 5, 6,2,2],\n",
    "    [7, 8, 9,2,2],\n",
    "    [10, 11, 12,2]\n",
    "],2)"
   ]
  },
  {
   "attachments": {},
   "cell_type": "markdown",
   "metadata": {},
   "source": [
    "#### (9) lol_contains\n",
    "\n",
    "Crea la función `lol_contains` que recibe un lol y otro parámetro (de cualquier tipo) llamado `needle`. Devuelve un booleano si el lol contiene a `needle` en alguno de sus sublistas. No iteres más de lo debido.\n",
    "\n",
    "1. ¿Qué tipo de función es?\n",
    "2. Añade la indicación de tipos tanto al retorno como al parámetro.\n",
    "   "
   ]
  },
  {
   "cell_type": "code",
   "execution_count": 15,
   "metadata": {},
   "outputs": [],
   "source": [
    "def lol_contains(lol:list[list], needle)->bool:\n",
    "    finded = False\n",
    "    for element in lol:\n",
    "        for subelement in element:\n",
    "            if subelement == needle:\n",
    "                finded = True\n",
    "                break\n",
    "            \n",
    "    return finded"
   ]
  },
  {
   "cell_type": "code",
   "execution_count": 16,
   "metadata": {},
   "outputs": [
    {
     "data": {
      "text/plain": [
       "True"
      ]
     },
     "execution_count": 16,
     "metadata": {},
     "output_type": "execute_result"
    }
   ],
   "source": [
    "lol_contains([\n",
    "    [1, 2, 3,2,2],\n",
    "    [4, 5, 6,2,2],\n",
    "    [7, 8, 9,2,2],\n",
    "    [10, 11, 12,2111]\n",
    "],2111)"
   ]
  },
  {
   "attachments": {},
   "cell_type": "markdown",
   "metadata": {},
   "source": [
    "#### (10) lol_sum_even\n",
    "\n",
    "Crea la función `lol_sum_even` que recibe un lol de enteros y devuelve la suma de todos los números pares.\n",
    "\n",
    "1. ¿Qué tipo de función es?\n",
    "2. Añade la indicación de tipos tanto al retorno como al parámetro.\n",
    "3. Crea la función `lol_sum_odd` que suma los números *impares*, haciendo la menor cantidad de cambios posibles."
   ]
  },
  {
   "cell_type": "code",
   "execution_count": 17,
   "metadata": {},
   "outputs": [],
   "source": [
    "def lol_sum_even(lol:list[list[int|float]])->int|float:\n",
    "    sum = 0\n",
    "    for element in lol:\n",
    "        for subelement in element:\n",
    "            if subelement%2==0:\n",
    "                sum = sum + subelement\n",
    "    return sum"
   ]
  },
  {
   "cell_type": "code",
   "execution_count": 18,
   "metadata": {},
   "outputs": [],
   "source": [
    "def lol_sum_odd(lol:list[list[int|float]])->int|float:\n",
    "    sum = 0\n",
    "    for element in lol:\n",
    "        for subelement in element:\n",
    "            if subelement%2!=0:\n",
    "                sum = sum + subelement\n",
    "    return sum"
   ]
  },
  {
   "cell_type": "code",
   "execution_count": 19,
   "metadata": {},
   "outputs": [
    {
     "data": {
      "text/plain": [
       "2273"
      ]
     },
     "execution_count": 19,
     "metadata": {},
     "output_type": "execute_result"
    }
   ],
   "source": [
    "lol_sum_odd([\n",
    "    [1, 2, 3,21,21],\n",
    "    [4, 5, 6,21,21],\n",
    "    [7, 8, 9,21,21],\n",
    "    [10, 11, 12,2111]\n",
    "])"
   ]
  },
  {
   "attachments": {},
   "cell_type": "markdown",
   "metadata": {},
   "source": [
    "#### (10) lol_prod_odd\n",
    "\n",
    "Crea la función `lol_prod_odd` que recibe un lol de enteros y devuelve el producto de todos los números impares.\n",
    "\n",
    "1. ¿Qué tipo de función es?\n",
    "2. Añade la indicación de tipos tanto al retorno como al parámetro.\n",
    "3. Crea la función `lol_prod_even` que suma los números *pares*, haciendo la menor cantidad de cambios posibles.\n"
   ]
  },
  {
   "cell_type": "code",
   "execution_count": 20,
   "metadata": {},
   "outputs": [],
   "source": [
    "def lol_prod_even(lol:list[list[int|float]])->int|float:\n",
    "    prod = 1\n",
    "    for element in lol:\n",
    "        for subelement in element:\n",
    "            if subelement%2==0:\n",
    "                prod = prod * subelement\n",
    "    return prod"
   ]
  },
  {
   "cell_type": "code",
   "execution_count": 21,
   "metadata": {},
   "outputs": [],
   "source": [
    "def lol_prod_odd(lol:list[list[int|float]])->int|float:\n",
    "    prod = 1\n",
    "    for element in lol:\n",
    "        for subelement in element:\n",
    "            if subelement%2!=0:\n",
    "                prod = prod * subelement\n",
    "    return prod"
   ]
  },
  {
   "attachments": {},
   "cell_type": "markdown",
   "metadata": {},
   "source": [
    "#### (11) Patrones\n",
    "\n",
    "1. Comprueba si ves algún patrón común en estas funciones\n",
    "2. Compara con los patrones (compresor, selector y transformador) que hemso visto anteriormente para listas planas\n",
    "3. ¿Crees que sería posible implementar la versión lol de un compresor (por ejemplo) usando la versión de la lista plana?\n",
    "\n"
   ]
  },
  {
   "cell_type": "code",
   "execution_count": null,
   "metadata": {},
   "outputs": [],
   "source": []
  },
  {
   "attachments": {},
   "cell_type": "markdown",
   "metadata": {},
   "source": [
    "#### (12) lol_contains_any\n",
    "\n",
    "Crea la función que recibe un lol y una lista llamada `needles` y devuelve un booleano. La función devolverá True si en alguna de las sublistas del lol, aparece alguno de los elementos que están en la lista `needles`.\n",
    "\n",
    "1. Recuerda Divide y Vencerás: cómo romperías el problema\n",
    "2. Añade la indicación de tipo a la función\n",
    "3. ¿Qué tipo de función es?\n",
    "\n"
   ]
  },
  {
   "cell_type": "code",
   "execution_count": 22,
   "metadata": {},
   "outputs": [],
   "source": [
    "def lol_contains_any(lol:list[list], needles:list)->bool:\n",
    "    finded = False\n",
    "    for element in lol:\n",
    "        for subelement in element:\n",
    "            if subelement in needles:\n",
    "                finded = True\n",
    "                break\n",
    "            \n",
    "    return finded"
   ]
  },
  {
   "cell_type": "code",
   "execution_count": 23,
   "metadata": {},
   "outputs": [
    {
     "data": {
      "text/plain": [
       "False"
      ]
     },
     "execution_count": 23,
     "metadata": {},
     "output_type": "execute_result"
    }
   ],
   "source": [
    "lol_contains_any([\n",
    "    [1, 2, 3,2,2],\n",
    "    [4, 5, 6,2,2],\n",
    "    [7, 8, 9,2,2],\n",
    "    [10, 11, 12,2111]\n",
    "],[])"
   ]
  },
  {
   "attachments": {},
   "cell_type": "markdown",
   "metadata": {},
   "source": [
    "#### (13) lol_contains_all\n",
    "\n",
    "Crea la función que recibe un lol y una lista llamada `needles` y devuelve un booleano. La función devolverá True si entre los elementos de las sublistas, aparecen *todos*  los elementos que están en la lista `needles`.\n",
    "\n",
    "No importa en orden en el que aparecezcan ni la sublista. No tienen que estar todos en la misma sublista.\n",
    "\n",
    "1. Recuerda Divide y Vencerás: cómo romperías el problema\n",
    "2. Añade la indicación de tipo a la función\n",
    "3. ¿Qué tipo de función es?\n",
    "4. ¿En qué se parece al problema anterior?\n",
    "5. ¿En qué se distingue?\n"
   ]
  },
  {
   "cell_type": "code",
   "execution_count": 24,
   "metadata": {},
   "outputs": [],
   "source": [
    "def remove_finded(lista:list, item)->list:\n",
    "    return_list = []\n",
    "    for element in lista:\n",
    "        if element != item:\n",
    "            return_list.append(element)\n",
    "    return return_list\n",
    "def lol_contains_all(lol:list[list], needles:list)->bool:\n",
    "    finded = False\n",
    "    myneedles= needles\n",
    "    for element in lol:\n",
    "        for subelement in element:\n",
    "            if subelement in needles:\n",
    "                myneedles = remove_finded(myneedles,subelement)\n",
    "                print(myneedles)\n",
    "                if myneedles ==[]:\n",
    "                    finded = True\n",
    "                    break\n",
    "            \n",
    "    return finded"
   ]
  },
  {
   "cell_type": "code",
   "execution_count": 25,
   "metadata": {},
   "outputs": [
    {
     "name": "stdout",
     "output_type": "stream",
     "text": [
      "[9, 8, 6]\n",
      "[9, 8]\n",
      "[9]\n",
      "[]\n"
     ]
    },
    {
     "data": {
      "text/plain": [
       "True"
      ]
     },
     "execution_count": 25,
     "metadata": {},
     "output_type": "execute_result"
    }
   ],
   "source": [
    "lol_contains_all([\n",
    "    [1, 2, 3,2,2],\n",
    "    [4, 5, 6,2,2],\n",
    "    [7, 8, 9,2,2],\n",
    "    [10, 11, 12,2111]\n",
    "],[9,8,3,6])"
   ]
  },
  {
   "attachments": {},
   "cell_type": "markdown",
   "metadata": {},
   "source": [
    "#### (14) larger_than\n",
    "\n",
    "Función que recibe un lol de números (`int` o `float`) y un número (`int` o `float`). Devuelve otro lol con las mismas dimensiones que el anterior, pero compuetso de listas de booleanos. \n",
    "\n",
    "Los booleanos serán True o False dependiendo de si el elemento de la sublista es mayor que el parámetro numérico.\n",
    "\n",
    "1. ¿Qué tipo de función es?\n",
    "2. Añade la indicación de tipos"
   ]
  },
  {
   "cell_type": "code",
   "execution_count": 26,
   "metadata": {},
   "outputs": [],
   "source": [
    "def larger_than(lol:list[list[int|float]], number:int|float)->list[list[bool]]:\n",
    "    boolelist = []\n",
    "    for element in lol:\n",
    "        subboolelist =[]\n",
    "        for subelement in element:\n",
    "            if subelement > number:\n",
    "                subboolelist.append(True)\n",
    "            else:\n",
    "                subboolelist.append(False)\n",
    "        boolelist.append(subboolelist)\n",
    "    return boolelist"
   ]
  },
  {
   "cell_type": "code",
   "execution_count": 27,
   "metadata": {},
   "outputs": [
    {
     "data": {
      "text/plain": [
       "[[False, False, False], [False, True, True], [True, True, True]]"
      ]
     },
     "execution_count": 27,
     "metadata": {},
     "output_type": "execute_result"
    }
   ],
   "source": [
    "larger_than([\n",
    "    [1, 2, 3],\n",
    "    [4, 5, 6],\n",
    "    [7, 8, 9]],4)"
   ]
  },
  {
   "attachments": {},
   "cell_type": "markdown",
   "metadata": {},
   "source": [
    "#### (15) has_same_dimensions\n",
    "\n",
    "La función recibe dos lols y devuelve True si tienen las mismas dimensiones: mismo número de sublistas, y las sublistas en uno y otro tienen la misma longitud.\n",
    "\n",
    "1. ¿Qué tipo de función es?\n",
    "2. Añade la info de tipo\n",
    "3. Usala para comprobar que la función anteriro realmente devuelve lols de dimensiones iguales\n"
   ]
  },
  {
   "cell_type": "code",
   "execution_count": 28,
   "metadata": {},
   "outputs": [],
   "source": [
    "def has_same_dimensions(lol1:list[list[int|float]], lol2:list[list[int|float]])->bool:\n",
    "    \n",
    "    if len(lol1) != len(lol2) :\n",
    "        same_dimensions = False\n",
    "    else:\n",
    "        same_dimensions = True\n",
    "        index = 0\n",
    "    while same_dimensions and len(lol1)> index:\n",
    "        if len(lol1[index]) == len(lol2[index]):\n",
    "            same_dimensions=True\n",
    "        else:\n",
    "            same_dimensions = False\n",
    "        index += 1\n",
    "    return same_dimensions"
   ]
  },
  {
   "cell_type": "code",
   "execution_count": 29,
   "metadata": {},
   "outputs": [
    {
     "data": {
      "text/plain": [
       "True"
      ]
     },
     "execution_count": 29,
     "metadata": {},
     "output_type": "execute_result"
    }
   ],
   "source": [
    "has_same_dimensions([],[])"
   ]
  },
  {
   "attachments": {},
   "cell_type": "markdown",
   "metadata": {},
   "source": [
    "#### (16) add_to_lol\n",
    "\n",
    "La función recibe un lol de números (`int` o `float`) y un número (`int` o `float`). Devuelve otro lol con las mismas dimensiones que el anterior, pero cada elemento individual de las sublistas sumado a el número recibido como parámetro.\n",
    "\n",
    "```\n",
    "add_to_lol([[1,2,3],[-1, 0],[0]], 42) ---> [[43, 44, 47], [40, 42], [42]]\n",
    "```\n",
    "\n",
    "1. ¿Se te ocurre cómo romper el problema?\n",
    "2. Comprueba que el lol de salida tiene las mismas dimensiones que el de entrada\n",
    "3. Si una de las listas de lol de entrada es la lista vacía, lanza una excepción `ValueError`\n",
    "4. Añade la info de tipos a la función\n",
    "5. ¿Qué tipo de función es?\n"
   ]
  },
  {
   "cell_type": "code",
   "execution_count": 30,
   "metadata": {},
   "outputs": [],
   "source": [
    "Flintlol = list[list[int|float]]\n",
    "def add_to_lol(lol:Flintlol, number:int|float)->Flintlol:\n",
    "    result_lol = []\n",
    "    for sublist in lol:\n",
    "        result_sublol = []\n",
    "        for element in sublist:\n",
    "            result_sublol.append(element + number)\n",
    "        result_lol.append(result_sublol)\n",
    "    return result_lol\n",
    "            "
   ]
  },
  {
   "cell_type": "code",
   "execution_count": 31,
   "metadata": {},
   "outputs": [
    {
     "data": {
      "text/plain": [
       "[[43, 44, 45], [41, 42], [42]]"
      ]
     },
     "execution_count": 31,
     "metadata": {},
     "output_type": "execute_result"
    }
   ],
   "source": [
    "add_to_lol([[1,2,3],[-1, 0],[0]], 42)"
   ]
  },
  {
   "attachments": {},
   "cell_type": "markdown",
   "metadata": {},
   "source": [
    "#### (17) add_to_each_in_lol\n",
    "\n",
    "Similar al anterior. El cambio principal, es que el segundo parámetro no es un número, sino una lista de números. \n",
    "\n",
    "Debes de añadir a todos los elementos del lol (las sublistas) el valor correspiente de la lista de entrada:\n",
    "\n",
    "1. A la primera lista, añado a todos sus elementos el primer valor de la lista de parametros\n",
    "2. A la segunda lista, añado a todos sus elementos el segudo valor de la lista de parametros\n",
    "3. Etc...\n",
    "\n",
    "**Comprobaciones**\n",
    "\n",
    "1. El lol debe de tener la misma longitud que la lista\n",
    "2. Si no es así, lanza una excepción `ValueError`\n",
    "3. Si la lista de parámetros es la lista vacía, se devuelve el lol tal y como estaba (no se hace nada)\n",
    "4. Si el lol es el lol vacío, se devuelve un lol que contiene los elementos de la lista en el orden en que estaba:\n",
    "\n",
    "```\n",
    "add_to_each_in_lol([[],[],[]], [1,2,3]) ---> [[1],[2],[3]]\n",
    "```\n",
    "\n",
    "1. ¿Cómo romperías el problema?\n",
    "2. Qué tipo de función es?\n",
    "3. Añade la info de tipos\n",
    "   "
   ]
  },
  {
   "cell_type": "code",
   "execution_count": 32,
   "metadata": {},
   "outputs": [],
   "source": [
    "def add_to_each_in_lol(lol:Flintlol, numbers:list[int|float])->Flintlol:\n",
    "    '''Recive una lista de listas y una lista de numeros,\n",
    "    a cada elemento de cada sublistas se le ha de sumar el\n",
    "    elementode la lista de numeros que le corresponda.'''\n",
    "    if len(lol) != len(numbers): # Gestion de excepcion\n",
    "        raise ValueError ('Las listas deben tener la misma longitud')\n",
    "    index = 0\n",
    "    result_lol = []\n",
    "    while index< len(lol):\n",
    "        result_sublol = []\n",
    "        print(lol[index])\n",
    "        if lol[index]!= []:\n",
    "            for element in lol[index]:\n",
    "                print('a',element, numbers[index])\n",
    "                result_sublol.append(element + numbers[index]) \n",
    "        else:\n",
    "            result_sublol.append(numbers[index])\n",
    "            print (result_sublol)\n",
    "        result_lol.append(result_sublol)\n",
    "        index += 1\n",
    "    return result_lol"
   ]
  },
  {
   "cell_type": "code",
   "execution_count": 33,
   "metadata": {},
   "outputs": [
    {
     "name": "stdout",
     "output_type": "stream",
     "text": [
      "Las listas deben tener la misma longitud\n"
     ]
    }
   ],
   "source": [
    "try:\n",
    "    add_to_each_in_lol([[],[],[]], [1,2])\n",
    "except ValueError as err:\n",
    "    print(err)"
   ]
  },
  {
   "attachments": {},
   "cell_type": "markdown",
   "metadata": {},
   "source": [
    "#### (18) get_firsts\n",
    "\n",
    "Recibe un lol de números (`int` o `float`) y devuelve lista de números o `None` (`int`, `float`, `None`) con los primeros elementos de cada una de la sublistas del lol.\n",
    "\n",
    "**Casos especiales**\n",
    "\n",
    "1. Si el lol es el lol vacío, se devuelve la lista vacía (no se hace nada)\n",
    "2. Si alguno de los elementos del lol es una lista vacía, se devuele `None`. Es decir, consideramso que el primer elemento de una lista vacía es `None`.\n",
    "\n",
    "result_list.append(None) ---> [1,3,6, None]\n",
    "\n",
    "1. Añade la información de tipos.\n",
    "   1. Define un alias para `int` o `float` llamado `num`\n",
    "   2. ¿Cómo se llama el tipo de salida (algo que puede ser `num` o `None`)?\n"
   ]
  },
  {
   "cell_type": "code",
   "execution_count": 34,
   "metadata": {},
   "outputs": [],
   "source": [
    "def get_firsts(lol:Flintlol)->list[int|float|None]:\n",
    "    '''recoremos un lol y devolvemos una lista con los primeros elementos de las sublistas'''\n",
    "    result_list = []\n",
    "    for sublist in lol:\n",
    "        if sublist == []:\n",
    "            result_list.append(None)\n",
    "        else:\n",
    "            result_list.append(sublist[0])\n",
    "          \n",
    "    return result_list"
   ]
  },
  {
   "cell_type": "code",
   "execution_count": 35,
   "metadata": {},
   "outputs": [
    {
     "data": {
      "text/plain": [
       "[None, 4, 7]"
      ]
     },
     "execution_count": 35,
     "metadata": {},
     "output_type": "execute_result"
    }
   ],
   "source": [
    "get_firsts([[], [4, 5, 6], [7, 8, 9]])\n",
    "\n"
   ]
  },
  {
   "attachments": {},
   "cell_type": "markdown",
   "metadata": {},
   "source": [
    "#### (18) get_seconds\n",
    "\n",
    "Similar a la anterior, pero pillando el segundo elemento. Al igual que antes, si no existe un segundo elemento, se devuelve `None`.\n",
    "\n",
    "```\n",
    "get_seconds([[1,2], [3,4], [6, 7, 8], [2]]) ---> [2,4,7, None]\n",
    "```\n",
    "\n",
    "1. Añade la info de tipos\n",
    "2. ¿Qué tipo de función es?\n",
    "   "
   ]
  },
  {
   "cell_type": "code",
   "execution_count": 36,
   "metadata": {},
   "outputs": [],
   "source": [
    "def get_seconds(lol:Flintlol)->list[int|float|None]:\n",
    "    '''recoremos un lol y devolvemos una lista con los segundos elementos de las sublistas'''\n",
    "\n",
    "    result_list = []\n",
    "    for sublist in lol:\n",
    "        if len(sublist) <= 1:\n",
    "            result_list.append(None)\n",
    "        else:\n",
    "            result_list.append(sublist[1])\n",
    "          \n",
    "    return result_list"
   ]
  },
  {
   "cell_type": "code",
   "execution_count": 37,
   "metadata": {},
   "outputs": [
    {
     "data": {
      "text/plain": [
       "[2, 4, 7, None]"
      ]
     },
     "execution_count": 37,
     "metadata": {},
     "output_type": "execute_result"
    }
   ],
   "source": [
    "get_seconds([[1,2], [3,4], [6, 7, 8], [2]])"
   ]
  },
  {
   "cell_type": "code",
   "execution_count": 62,
   "metadata": {},
   "outputs": [
    {
     "data": {
      "text/plain": [
       "[]"
      ]
     },
     "execution_count": 62,
     "metadata": {},
     "output_type": "execute_result"
    }
   ],
   "source": [
    "get_seconds([])"
   ]
  },
  {
   "attachments": {},
   "cell_type": "markdown",
   "metadata": {},
   "source": [
    "#### (19) get_nths\n",
    "\n",
    "Generaliza la solución anterior para tener una función que recibe un lol de números (`int` o `float`) y devuelve una lista de números o `None` (`int`, `float`, `None`).\n",
    "\n",
    "1. Describe los tipos\n",
    "2. Comprueba su resultado con lols que tienen elementos de distintas longitudes"
   ]
  },
  {
   "cell_type": "code",
   "execution_count": 38,
   "metadata": {},
   "outputs": [],
   "source": [
    "def get_nths(lol:Flintlol, position:int)->list[int|float|None]:\n",
    "    '''recoremos un lol y devolvemos una lista con los enesimos elementos de las sublistas'''\n",
    "\n",
    "    result_list = []\n",
    "    for sublist in lol:\n",
    "        print(len(sublist), position)\n",
    "        if len(sublist) < position:\n",
    "            result_list.append(None)\n",
    "        else:\n",
    "            \n",
    "            result_list.append(sublist[position-1])\n",
    "          \n",
    "    return result_list"
   ]
  },
  {
   "cell_type": "code",
   "execution_count": 63,
   "metadata": {},
   "outputs": [
    {
     "name": "stdout",
     "output_type": "stream",
     "text": [
      "2 3\n",
      "2 3\n",
      "3 3\n",
      "8\n",
      "1 3\n"
     ]
    },
    {
     "data": {
      "text/plain": [
       "[None, None, 8, None]"
      ]
     },
     "execution_count": 63,
     "metadata": {},
     "output_type": "execute_result"
    }
   ],
   "source": [
    "get_nths([[1,2], [3,4], [6, 7, 8], [2]],3)"
   ]
  },
  {
   "attachments": {},
   "cell_type": "markdown",
   "metadata": {},
   "source": [
    "#### (20) flat_sum\n",
    "\n",
    "Suponiendo que existe el alias:\n",
    "\n",
    "```\n",
    "num = int | float\n",
    "```\n",
    "\n",
    "Crea la función `flat_sum(lol)` que recorre un lol de números opcionales (`num | None`) y devuelve un `num` con la suma de todos los números. **Los `None` son ignorados**.\n",
    "\n",
    "Si recibe el lol vacío, devuelve `0`.\n",
    "\n"
   ]
  },
  {
   "cell_type": "code",
   "execution_count": 40,
   "metadata": {},
   "outputs": [],
   "source": [
    "num = int | float\n",
    "def flat_sum(lol:list[list[num|None]])->num:\n",
    "    sum = 0\n",
    "    for sublist in lol:\n",
    "        for element in sublist:\n",
    "            if element != None:\n",
    "                sum += element\n",
    "            else:\n",
    "                pass\n",
    "    return sum"
   ]
  },
  {
   "cell_type": "code",
   "execution_count": 41,
   "metadata": {},
   "outputs": [
    {
     "data": {
      "text/plain": [
       "40"
      ]
     },
     "execution_count": 41,
     "metadata": {},
     "output_type": "execute_result"
    }
   ],
   "source": [
    "flat_sum([[1, 2, 3], [4, None, 6], [7, 8, 9]])"
   ]
  },
  {
   "attachments": {},
   "cell_type": "markdown",
   "metadata": {},
   "source": [
    "#### (21) flat_product\n",
    "\n",
    "Crea ahora la función que recibe un lol de `num | None` y devuelve el producto de los `num` . **Los `None` son ignorados**.\n",
    "\n",
    "Si recibe el lol vacío, devuelve `1`.\n"
   ]
  },
  {
   "cell_type": "code",
   "execution_count": 42,
   "metadata": {},
   "outputs": [],
   "source": [
    "num = int | float\n",
    "def flat_prod(lol:list[list[num|None]])->num:\n",
    "    prod = 1\n",
    "    for sublist in lol:\n",
    "        for element in sublist:\n",
    "            if element != None:\n",
    "                prod *= element\n",
    "            else:\n",
    "                pass\n",
    "    return prod"
   ]
  },
  {
   "cell_type": "code",
   "execution_count": 43,
   "metadata": {},
   "outputs": [
    {
     "data": {
      "text/plain": [
       "60480"
      ]
     },
     "execution_count": 43,
     "metadata": {},
     "output_type": "execute_result"
    }
   ],
   "source": [
    "flat_prod([[None, None], [4, 5, 6], [7, 8, 9]])"
   ]
  },
  {
   "attachments": {},
   "cell_type": "markdown",
   "metadata": {},
   "source": [
    "#### (21) stringify_lol\n",
    "\n",
    "La función `stringify_lol` recibe un lol de cualquier cosa y devuelve una lista de cadenas. `stringify_lol` convierte cada uno de las listas de lol en una cadena, convirtiendo a cadenas cada uno de sus companonentes y concatenándolos todos.\n",
    "\n",
    "```\n",
    "stringify_lol([[1,2,3, \"@\"],[3.34, None, []],[]]) == [\"123@\",\"3.34None[]\",\"[]\"]\n",
    "```\n",
    "\n",
    "Si recibe el lol vacío, devuelve la cadena vacía.\n",
    "\n",
    "1. ¿Cómo romperías el problema?\n",
    "2. ¿Qué tipo de función es?\n",
    "3. Añade la información de tipo\n",
    "4. ¿A cuales de las que ya has creado se parece?"
   ]
  },
  {
   "cell_type": "code",
   "execution_count": 44,
   "metadata": {},
   "outputs": [],
   "source": [
    "def stringify_lol(lol:list[list[any]])->list[str]:\n",
    "    resultlist = []\n",
    "    for sublist in lol:\n",
    "        substring = ''\n",
    "        for element in sublist:\n",
    "            substring += str(element)\n",
    "        resultlist.append(substring)\n",
    "    return resultlist"
   ]
  },
  {
   "cell_type": "code",
   "execution_count": 45,
   "metadata": {},
   "outputs": [
    {
     "data": {
      "text/plain": [
       "['123@', '3.34None[]', '']"
      ]
     },
     "execution_count": 45,
     "metadata": {},
     "output_type": "execute_result"
    }
   ],
   "source": [
    "stringify_lol([[1,2,3, \"@\"],[3.34, None, []],[]])"
   ]
  },
  {
   "attachments": {},
   "cell_type": "markdown",
   "metadata": {},
   "source": [
    "#### (22) stringify_lol v 2.0\n",
    "\n",
    "Vas a modificar `stringify_lol` para que reciba un segundo parámetro de `str` llamado `separator` que se va a concatenar entre cada elemento de las listas del lol. Tendrá por defecto el valor de la cadena vacía, para que funcione como la versión original.\n",
    "\n",
    "**OJO**\n",
    "\n",
    "Las cadenas resultantes no pueden empezer ni terminar ni empezar por el separador.\n",
    "\n",
    "Por ejemplo:\n",
    "\n",
    "```\n",
    "stringify_lol([[1,2,3, \"@\"],[3.34, None, []],[]], separator=\";\") == [\"1;2;3;@\", \"3.34;None;[]\", \"[]\"]\n",
    "```\n",
    "\n",
    "\n",
    "1. Pregúntale a chatGPT lo que es un CSV y para qué sirve."
   ]
  },
  {
   "cell_type": "code",
   "execution_count": 46,
   "metadata": {},
   "outputs": [],
   "source": [
    "def stringify_lol2(lol:list[list[any]], separator:str='')->list[str]:\n",
    "    resultlist = []\n",
    "    for sublist in lol:\n",
    "        substring = ''\n",
    "        for index in range(len(sublist)):\n",
    "            substring = substring + str(sublist[index])\n",
    "            if index+1 < len(sublist):\n",
    "                substring = substring + separator\n",
    "        resultlist.append(substring)\n",
    "    return resultlist"
   ]
  },
  {
   "cell_type": "code",
   "execution_count": 47,
   "metadata": {},
   "outputs": [
    {
     "data": {
      "text/plain": [
       "['123@', '3.34None[]', '']"
      ]
     },
     "execution_count": 47,
     "metadata": {},
     "output_type": "execute_result"
    }
   ],
   "source": [
    "stringify_lol2([[1,2,3, \"@\"],[3.34, None, []],[]])"
   ]
  },
  {
   "attachments": {},
   "cell_type": "markdown",
   "metadata": {},
   "source": [
    "#### (23) flat_stringify_lol\n",
    "\n",
    "Hace lo mismo que `stringyfy_lol` pero **ignora los `None`**\n"
   ]
  },
  {
   "cell_type": "code",
   "execution_count": 48,
   "metadata": {},
   "outputs": [],
   "source": [
    "def flat_stringify_lol(lol:list[list[any]], separator:str='')->list[str]:\n",
    "    resultlist = []\n",
    "    for sublist in lol:\n",
    "        substring = ''\n",
    "        for index in range(len(sublist)):\n",
    "            if sublist[index]!= None:\n",
    "                substring = substring + str(sublist[index])\n",
    "                if index+1 < len(sublist):\n",
    "                    substring = substring + separator\n",
    "        resultlist.append(substring)\n",
    "    return resultlist"
   ]
  },
  {
   "attachments": {},
   "cell_type": "markdown",
   "metadata": {},
   "source": [
    "#### (23) Funciones `flatXXX`\n",
    "\n",
    "Son muy comunes en procesamiento de datos y en gestión de interfaces complejas (tanto en iOS, Androd y Web). Se caratcerizan por procesar una lista, ignorando los `None`.  Pudes er compresores, selectores o transformadores.\n",
    "\n",
    "Los verás muy a menudo en el futuro. En vez de lanzar una excepción cuando se encuentran con algo inválido, simplemente lo ignoran y tiran palante.\n"
   ]
  },
  {
   "attachments": {},
   "cell_type": "markdown",
   "metadata": {},
   "source": [
    "#### (24) list_to_lol\n",
    "\n",
    "La función `list_to_lol` recibe una lista de cadenas `list[str]` y devuelve un lol de cadenas. \n",
    "\n",
    "Cada una de las cadenas de la lista original, se convierte en una `list[str]`:\n",
    "\n",
    "```\n",
    "# una cadena dentro de la lista original\n",
    "\"Hola Mundo\" --> [\"H\", \"o\", \"l\", \"a\", \" \", \"M\", \"u\", \"n\", \"d\", \"o\"]\n",
    "```\n",
    "\n",
    "Por lo  tanto,\n",
    "\n",
    "```\n",
    "list_to_lol([\"abc\", \"def\"]) = [[\"a\", \"b\", \"c\"], [\"d\",\"e\", \"f\"]]\n",
    "```\n",
    "\n",
    "Si recibes la lista vacía, devuelve el lol vacío.\n",
    "Si una de las cadenas es la cadena vacía, ésta se convierte en la lista vacía.\n",
    "\n",
    "1. ¿Cómo romperías el problema?\n",
    "2. ¿Recuerdas haber creado una función llamada `explode`? ¿Podría servir aquí?\n",
    "\n",
    "\n"
   ]
  },
  {
   "cell_type": "code",
   "execution_count": 49,
   "metadata": {},
   "outputs": [],
   "source": [
    "def explode(myString=''):\n",
    "  # Acumulador con valor inicial\n",
    "  explodedList = []\n",
    "  # Iteramos\n",
    "  for character in myString:\n",
    "  # Aplicamos la transformacion requerida\n",
    "    explodedList.append(character)\n",
    "  return explodedList"
   ]
  },
  {
   "cell_type": "code",
   "execution_count": 50,
   "metadata": {},
   "outputs": [],
   "source": [
    "def list_to_lol(string_list:list[str])->list[list]:\n",
    "    resultlist= []\n",
    "    for element in string_list:\n",
    "        resultlist.append(explode(element))\n",
    "    return resultlist"
   ]
  },
  {
   "cell_type": "code",
   "execution_count": 51,
   "metadata": {},
   "outputs": [
    {
     "data": {
      "text/plain": [
       "[['a', 'b', 'c'], ['d', 'e', 'f']]"
      ]
     },
     "execution_count": 51,
     "metadata": {},
     "output_type": "execute_result"
    }
   ],
   "source": [
    "list_to_lol([\"abc\", \"def\"])"
   ]
  },
  {
   "attachments": {},
   "cell_type": "markdown",
   "metadata": {},
   "source": [
    "#### (24) lol_to_list\n",
    "\n",
    "Dice un pasodoble famoso:\n",
    "\n",
    "> Si vas por Calatuyud,\n",
    "> pregunta por [la Dolores](https://www.hoyaragon.es/cultura-aragon/hospederia-la-dolores-calatayud-pasodoble/)\n",
    "> que es muy amiga de hacer favores.\n",
    "\n",
    "Hay otra versión que dice así:\n",
    "\n",
    "> Si vas por Calatayud, \n",
    "> pregunta por el Marqués:\n",
    "> Hace los mismos favores,\n",
    "> solo que del revés.\n",
    "\n",
    "Ahora vas a crear la función `lol_to_list`, que hace lo mismo que `list_to_lol`, sólo que del revés.\n",
    "\n",
    "Recibe lol de lista de cadenas y devuelve una `list[str]`. Es justo la inversa de `list_to_lol`\n",
    "\n",
    "Comprueba que `list_to_lol(lol_to_list(X)) == X` donde `X` es una `list[str]`.\n",
    "\n"
   ]
  },
  {
   "cell_type": "code",
   "execution_count": 52,
   "metadata": {},
   "outputs": [],
   "source": [
    "def implode(stringList):\n",
    "  # Acumulador con valor inicial\n",
    "  implodeSring = ''\n",
    "  # Iteramos\n",
    "  for element in stringList:\n",
    "  # Aplicamos la compresion\n",
    "    implodeSring = implodeSring + str(element)\n",
    "  return implodeSring"
   ]
  },
  {
   "cell_type": "code",
   "execution_count": 53,
   "metadata": {},
   "outputs": [],
   "source": [
    "Lol = list[list]\n",
    "def lol_to_list(lol:Lol)->list[str]:\n",
    "    return_list = []\n",
    "    for sublist in lol:\n",
    "        return_list.append(implode(sublist))\n",
    "    return return_list"
   ]
  },
  {
   "cell_type": "code",
   "execution_count": 54,
   "metadata": {},
   "outputs": [
    {
     "data": {
      "text/plain": [
       "['abc', 'def']"
      ]
     },
     "execution_count": 54,
     "metadata": {},
     "output_type": "execute_result"
    }
   ],
   "source": [
    "lol_to_list([['a', 'b', 'c'], ['d', 'e', 'f']])"
   ]
  },
  {
   "attachments": {},
   "cell_type": "markdown",
   "metadata": {},
   "source": [
    "#### (25) Limpieza de datos chorras\n",
    "\n",
    "Trabajas en un red social frecuentada por niños y también adolescentes. Es una necesidad imperiosa que el entorno sea seguro para los niños, pero los adolescentes consiguen colar guarrerías de las formas más insospechadas.\n",
    "\n",
    "Recientemente, se ha visto que uno envió el siguiente mensaje:\n",
    "\n",
    "\"Te voy a invitar a un 🌭 y dos 🍳\"\n",
    "\n",
    "Hay que poner fin a esto, y se van a limpiar los mensajes de emojis con segundas.\n",
    "\n",
    "Vas a crear la función `clean_messages` que recibe un lol de listas de cadenas. Cada lista del lol es una secuencia de mensajes. Además, recibes una cadena de emojis prohibidos (recuerda que las cadenas son secuencias que pueden ser buscadas con un `in` y también interadas.\n",
    "\n",
    "La cadena de emojis prohibidos tiene este valor por defecto: \"🍳🌭🍆🍑💦\". Cada ocurrencia de dicho caracter debe de ser sustituído por una cadena vacía, es decir, debe de desaparecer sin dejar rastro.\n"
   ]
  },
  {
   "cell_type": "code",
   "execution_count": 55,
   "metadata": {},
   "outputs": [],
   "source": [
    "def censor(uncut_str:str, forb_str:str)->str:\n",
    "    return_str =''\n",
    "    for character in uncut_str:\n",
    "        if character not in forb_str:\n",
    "            return_str = return_str + character\n",
    "    return return_str"
   ]
  },
  {
   "cell_type": "code",
   "execution_count": 56,
   "metadata": {},
   "outputs": [
    {
     "data": {
      "text/plain": [
       "'Te voy a invitar a un  y dos '"
      ]
     },
     "execution_count": 56,
     "metadata": {},
     "output_type": "execute_result"
    }
   ],
   "source": [
    "censor(\"Te voy a invitar a un 🌭 y dos 🍳\",'🍳🌭🍆🍑💦')"
   ]
  },
  {
   "cell_type": "code",
   "execution_count": 57,
   "metadata": {},
   "outputs": [],
   "source": [
    "def clean_messages(lol:Lol)->Lol:\n",
    "    forbbiden_emotes = '🍳🌭🍆🍑💦'\n",
    "    return_list = []\n",
    "    for sublist in lol:\n",
    "        return_sublist = []\n",
    "        for element in sublist:\n",
    "            censored_str = censor(element, forbbiden_emotes)\n",
    "            return_sublist.append(censored_str)\n",
    "        return_list.append(return_sublist)\n",
    "    return return_list\n",
    "        \n",
    "            \n",
    "        "
   ]
  },
  {
   "cell_type": "code",
   "execution_count": 58,
   "metadata": {},
   "outputs": [
    {
     "data": {
      "text/plain": [
       "[['Te voy a invitar a un  y dos ', 'tengo los  y la  a punto de '],\n",
       " ['Menudo ', 'si esta pasando hambre tengo '],\n",
       " ['te voy a dar una patada en los ',\n",
       "  'ya no se me ocurren mas cosas para poner con  y  ']]"
      ]
     },
     "execution_count": 58,
     "metadata": {},
     "output_type": "execute_result"
    }
   ],
   "source": [
    "clean_messages([[\"Te voy a invitar a un 🌭 y dos 🍳\", 'tengo los 🍳 y la 🍆 a punto de 💦'],\n",
    "               ['Menudo 🍑', 'si esta pasando hambre tengo 🍆'],\n",
    "               ['te voy a dar una patada en los 🍳', 'ya no se me ocurren mas cosas para poner con 🍳 y  💦']])"
   ]
  },
  {
   "attachments": {},
   "cell_type": "markdown",
   "metadata": {},
   "source": [
    "#### (26) Limpieza de datos chorras V2.0\n",
    "\n",
    "Todo funcionaba a la perfección, pero algunos usuarios, al darse cuenta de la censura, lograron burlarla de la siguiente manera.\n",
    "\n",
    "1. La función sólo actúa sobre carcateres en concreto.\n",
    "2. Los usuarios han pasado a usar secuencias de caracteres, cada uno de ellos considerado inofensivo.\n",
    "3. Las secuencias detectadas son:\n",
    "   1. 👉👌\n",
    "   2. 🍌🍩\n",
    "   3. 🥖🍯\n",
    "\n",
    "1. ¿Cómo modificarías la función para que siga eliminando los emojis individuales, pero también las combinaciones nuevas?\n",
    "\n",
    "PD Esto está basado en un caso real. No hay peor trabajo que vigilar adolescentes. 💩"
   ]
  },
  {
   "cell_type": "code",
   "execution_count": 59,
   "metadata": {},
   "outputs": [],
   "source": [
    "def new_censor(uncut_str:str, forb_str:str, forb_combos:str)->str:\n",
    "    return_str =''\n",
    "    index = 0\n",
    "    while index<len(uncut_str):\n",
    "        if index+1 < len(uncut_str):\n",
    "            \n",
    "            if uncut_str[index]+uncut_str[index+1] in forb_combos:\n",
    "                index = index + 2\n",
    "                \n",
    "        if uncut_str[index] not in forb_str:\n",
    "            return_str = return_str + uncut_str[index]\n",
    "            index = index +1\n",
    "        else:\n",
    "            index = index +1\n",
    "        \n",
    "    return return_str"
   ]
  },
  {
   "cell_type": "code",
   "execution_count": 60,
   "metadata": {},
   "outputs": [],
   "source": [
    "def new_clean_messages(lol:Lol)->Lol:\n",
    "    forbbiden_emotes = '🍳🌭🍆🍑💦'\n",
    "    forbbiden_combo = '👉👌~🍌🍩~🥖🍯'\n",
    "    return_list = []\n",
    "    for sublist in lol:\n",
    "        return_sublist = []\n",
    "        for element in sublist:\n",
    "            censored_str = new_censor(element, forbbiden_emotes,forbbiden_combo)\n",
    "            return_sublist.append(censored_str)\n",
    "        return_list.append(return_sublist)\n",
    "    return return_list\n",
    "        "
   ]
  },
  {
   "cell_type": "code",
   "execution_count": 61,
   "metadata": {},
   "outputs": [
    {
     "data": {
      "text/plain": [
       "[['Te voy a invitar  🥖a un  y dos ', 'tengo los  y la  a punto de 🥖'],\n",
       " ['Menudo ', 'si esta pasando hambre tengo 🥖'],\n",
       " ['te voy a dar 👌 una patada en los ',\n",
       "  'ya no se me ocurren🥖 mas cosas para poner con  y  🥖']]"
      ]
     },
     "execution_count": 61,
     "metadata": {},
     "output_type": "execute_result"
    }
   ],
   "source": [
    "new_clean_messages([[\"Te voy a invitar  🥖a un 🌭 y dos 🍳\", 'tengo los 🍳 y la 🍆 a punto de 💦🥖'],\n",
    "               ['Menudo 🍑', 'si esta pasando🍌🍩 hambre tengo 🍆🥖'],\n",
    "               ['te voy a dar 👌 una patada en los 🍳', 'ya no se me ocurren🥖 mas cosas🥖🍯 para poner con 🍳 y  💦🥖']])"
   ]
  },
  {
   "attachments": {},
   "cell_type": "markdown",
   "metadata": {},
   "source": [
    "## Resumen\n",
    "\n",
    "Todos estos ejercicios tienen como objetivo practicar 2 cosas:\n",
    "\n",
    "1. El romper problemas antes de enfrentarlos.\n",
    "2. Ponerse \"ojeras\" mentales cuando estás reoslviendo una parte del problema, para no pensar en el problema global (que puede ser confuso).\n",
    "3. Practicar al iteración anidada (lo de menos)"
   ]
  }
 ],
 "metadata": {
  "kernelspec": {
   "display_name": "Python 3",
   "language": "python",
   "name": "python3"
  },
  "language_info": {
   "codemirror_mode": {
    "name": "ipython",
    "version": 3
   },
   "file_extension": ".py",
   "mimetype": "text/x-python",
   "name": "python",
   "nbconvert_exporter": "python",
   "pygments_lexer": "ipython3",
   "version": "3.12.0"
  },
  "orig_nbformat": 4
 },
 "nbformat": 4,
 "nbformat_minor": 2
}
