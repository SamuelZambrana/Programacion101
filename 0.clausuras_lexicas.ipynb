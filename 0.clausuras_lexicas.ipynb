{
 "cells": [
  {
   "attachments": {},
   "cell_type": "markdown",
   "metadata": {},
   "source": [
    "# Clausuras: funciones que devuelven funciones\n",
    "\n",
    "----\n"
   ]
  },
  {
   "attachments": {},
   "cell_type": "markdown",
   "metadata": {},
   "source": [
    "### (0) Función misteriosa\n",
    "\n",
    "\n",
    "```Python\n",
    "def mistery(n):\n",
    "    def _m(k):\n",
    "        return n * k\n",
    "    return _m\n",
    "```\n",
    "1. ¿Qué devuelve `mistery`?\n",
    "   \n",
    "Si hacemos lo siguiente:\n",
    "\n",
    "```Python\n",
    "f = mistery(2)\n",
    "g = mistery(3)\n",
    "```\n",
    "\n",
    "1. ¿Qué devuelve `f(5)` y `f(3)`?\n",
    "2. ¿Qué devuelve `g(5)` y `g(3)`?\n",
    "3. ¿Qué nombre le darías a la función `f`?\n",
    "4. ¿Qué nombre le darías a la función `g`?\n",
    "5. ¿Qué hace la función `mistery` y qué nombre le darías?\n",
    "   \n"
   ]
  },
  {
   "attachments": {},
   "cell_type": "markdown",
   "metadata": {},
   "source": [
    "### (1) Generador de suma acumulada\n",
    "\n",
    "Crea una función externa llamada `sum_gen` que cuando se llame devuelva una función interna. Cada vez que la función interna es llamada, debería aceptar un número, y luego devolver el promedio acumulativo de todos los números que se le han pasado hasta ahora.\n",
    "\n",
    "Recuerda que la función interna debería recordar el estado de las variables en el ámbito de la función externa. Eso es lo que hace que sea una clausura."
   ]
  },
  {
   "attachments": {},
   "cell_type": "markdown",
   "metadata": {},
   "source": [
    "### (2) Promedio acumulado\n",
    "\n",
    "Crea una función externa llamada `average_gen` que cuando se llame devuelva una función interna. Cada vez que la función interna es llamada, debería aceptar un número, y luego devolver el promedio acumulativo de todos los números que se le han pasado hasta ahora.\n",
    "\n",
    "Recuerda que la función interna debería recordar el estado de las variables en el ámbito de la función externa. Eso es lo que hace que sea una clausura.\n"
   ]
  },
  {
   "attachments": {},
   "cell_type": "markdown",
   "metadata": {},
   "source": [
    "### (3) Comprobador de contraseñas\n",
    "\n",
    "Crea una función `validator_gen`que acepta la siguientes condiciones para validar una contraseña:\n",
    "\n",
    "1. Longitud mínima\n",
    "2. Si debe de contener números\n",
    "3. Si debe de contener alguno de los siguientes símbolos \"@#.:,;*\"\n",
    "4. Si debe de contener letras\n",
    "\n",
    "Devuelve una función interna que debería aceptar una contraseña y devolver verdadero o falso dependiendo de si la contraseña cumple con las condiciones.\n",
    "\n",
    "Recuerda que la función interna debería recordar el estado de las variables en el ámbito de la función externa. Eso es lo que hace que sea una clausura."
   ]
  }
 ],
 "metadata": {
  "language_info": {
   "name": "python"
  },
  "orig_nbformat": 4
 },
 "nbformat": 4,
 "nbformat_minor": 2
}
