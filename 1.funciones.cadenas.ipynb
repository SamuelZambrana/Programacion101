{
 "cells": [
  {
   "attachments": {},
   "cell_type": "markdown",
   "metadata": {},
   "source": [
    "# Funciones con Cadenas\n",
    "\n",
    "------------------"
   ]
  },
  {
   "attachments": {},
   "cell_type": "markdown",
   "metadata": {},
   "source": [
    "## Recordatorio\n",
    "\n",
    "\n",
    "Las operaciones que acepta una cadena son:\n",
    "\n",
    "* `+` para concatenar\n",
    "* `*` para extender\n",
    "\n",
    "Además hay otros operadores que podemos usar:\n",
    "\n",
    "### Indexado `[n]`\n",
    "\n",
    "Nos permite obtener el caracter que está en alguna posición. \n",
    "\n",
    "> Recuerda que los programadores emepzamos a contar en el cero\n",
    "\n",
    "```python\n",
    "\"lucas\"[0] #devolvería l\n",
    "```\n",
    "\n",
    "> El indexado puede ser negativo para indicar que se empieza por el final, y en ese caso representa la distancia desde el final\n",
    "\n",
    "```python\n",
    "\"lucas\"[-1] #devolvería s\n",
    "```\n",
    "\n",
    "### Slicing o *fileteado*\n",
    "\n",
    "Te permite obtener trozos o subcadenas.\n",
    "\n",
    "El slicing se realiza utilizando corchetes y dos puntos (:) para separar los índices de inicio, fin y, opcionalmente, el paso.\n",
    "\n",
    "La sintaxis general para el slicing es la siguiente:\n",
    "\n",
    "`secuencia[inicio:fin:paso]`\n",
    "\n",
    "Donde:\n",
    "\n",
    "* `inicio`: Es el índice del primer elemento que queremos incluir en la porción extraída. Si se omite, se asume el inicio de la secuencia (índice 0).\n",
    "* `fin`: Es el índice del elemento en el que queremos detenernos, sin incluirlo en la porción extraída. Si se omite, se asume el final de la secuencia.\n",
    "* `paso`: Es el número de índices entre elementos consecutivos en la porción extraída. Si se omite, se asume un paso de 1.\n",
    "  \n",
    "Algunos ejemplos de slicing en Python:\n",
    "\n",
    "\n",
    "```python\n",
    "cadena = \"Hola Mundo\"\n",
    "\n",
    "# Extraer los primeros 4 caracteres\n",
    "subcadena1 = cadena[:4]  # Resultado: \"Hola\"\n",
    "\n",
    "# Extraer los últimos 5 caracteres\n",
    "subcadena2 = cadena[-5:]  # Resultado: \"Mundo\"\n",
    "\n",
    "# Extraer los caracteres en posiciones impares\n",
    "subcadena3 = cadena[1::2]  # Resultado: \"oa ud\"\n",
    "\n",
    "# Invertir la cadena\n",
    "subcadena4 = cadena[::-1]  # Resultado: \"odnuM aloH\"\n",
    "```\n",
    "\n",
    "\n",
    "## Longitud\n",
    "\n",
    "La función `len` nos devuelve la longitud de una cadena.\n"
   ]
  },
  {
   "attachments": {},
   "cell_type": "markdown",
   "metadata": {},
   "source": [
    "# Ejercícios\n"
   ]
  },
  {
   "attachments": {},
   "cell_type": "markdown",
   "metadata": {},
   "source": [
    "Crea la función first_last(s) que acepta una cadena s y devuelve una nueva cadena con el primer y último caracteres de s."
   ]
  },
  {
   "cell_type": "code",
   "execution_count": 2,
   "metadata": {},
   "outputs": [],
   "source": [
    "def  first_last(s):\n",
    "  return s[0]+s[-1]"
   ]
  },
  {
   "cell_type": "code",
   "execution_count": 3,
   "metadata": {},
   "outputs": [
    {
     "data": {
      "text/plain": [
       "'hs'"
      ]
     },
     "execution_count": 3,
     "metadata": {},
     "output_type": "execute_result"
    }
   ],
   "source": [
    "first_last(\"hola amiguetes\")"
   ]
  },
  {
   "attachments": {},
   "cell_type": "markdown",
   "metadata": {},
   "source": [
    "Crea la función reverse(s) que acepta una cadena s y devuelve la cadena invertida."
   ]
  },
  {
   "cell_type": "code",
   "execution_count": 4,
   "metadata": {},
   "outputs": [],
   "source": [
    "def reverse(s):\n",
    "  return s[::-1]"
   ]
  },
  {
   "cell_type": "code",
   "execution_count": 5,
   "metadata": {},
   "outputs": [
    {
     "data": {
      "text/plain": [
       "'abmob anu se otse raliab araP'"
      ]
     },
     "execution_count": 5,
     "metadata": {},
     "output_type": "execute_result"
    }
   ],
   "source": [
    "reverse('Para bailar esto es una bomba')"
   ]
  },
  {
   "attachments": {},
   "cell_type": "markdown",
   "metadata": {},
   "source": [
    "Crea la función es_palindromo(s) que acepta una cadena s y devuelve True si s es un palíndromo (se lee igual hacia adelante y hacia atrás) y False si no lo es. Usa la función anterior."
   ]
  },
  {
   "cell_type": "code",
   "execution_count": 7,
   "metadata": {},
   "outputs": [],
   "source": [
    "def es_palindromo(s):\n",
    "  if s == reverse(s):\n",
    "    return True\n",
    "  else:\n",
    "    return False"
   ]
  },
  {
   "cell_type": "code",
   "execution_count": 8,
   "metadata": {},
   "outputs": [],
   "source": [
    "\n",
    "def es_palindromo2(s):\n",
    "  index=0\n",
    "\n",
    "  while index <= len(s)/2:\n",
    "    if s[index] == s[-1-index]:\n",
    "      pass\n",
    "    else:\n",
    "      return False\n",
    "    index +=1\n",
    "  return True"
   ]
  },
  {
   "cell_type": "code",
   "execution_count": 9,
   "metadata": {},
   "outputs": [
    {
     "data": {
      "text/plain": [
       "True"
      ]
     },
     "execution_count": 9,
     "metadata": {},
     "output_type": "execute_result"
    }
   ],
   "source": [
    "es_palindromo('dabalearrozalazorraelabad')"
   ]
  },
  {
   "cell_type": "code",
   "execution_count": 10,
   "metadata": {},
   "outputs": [
    {
     "data": {
      "text/plain": [
       "True"
      ]
     },
     "execution_count": 10,
     "metadata": {},
     "output_type": "execute_result"
    }
   ],
   "source": [
    "es_palindromo2('dabalearrozalazorraelabad')"
   ]
  },
  {
   "cell_type": "code",
   "execution_count": 11,
   "metadata": {},
   "outputs": [
    {
     "ename": "ModuleNotFoundError",
     "evalue": "No module named 'slugify'",
     "output_type": "error",
     "traceback": [
      "\u001b[1;31m---------------------------------------------------------------------------\u001b[0m",
      "\u001b[1;31mModuleNotFoundError\u001b[0m                       Traceback (most recent call last)",
      "\u001b[1;32mc:\\Users\\karho\\Desktop\\P101\\class_007\\labs\\1.funciones.cadenas.ipynb Cell 15\u001b[0m line \u001b[0;36m1\n\u001b[1;32m----> <a href='vscode-notebook-cell:/c%3A/Users/karho/Desktop/P101/class_007/labs/1.funciones.cadenas.ipynb#X20sZmlsZQ%3D%3D?line=0'>1</a>\u001b[0m \u001b[39mfrom\u001b[39;00m \u001b[39mslugify\u001b[39;00m \u001b[39mimport\u001b[39;00m slugify\n\u001b[0;32m      <a href='vscode-notebook-cell:/c%3A/Users/karho/Desktop/P101/class_007/labs/1.funciones.cadenas.ipynb#X20sZmlsZQ%3D%3D?line=2'>3</a>\u001b[0m \u001b[39mdef\u001b[39;00m \u001b[39mes_palindromo_normalize\u001b[39m(s):\n\u001b[0;32m      <a href='vscode-notebook-cell:/c%3A/Users/karho/Desktop/P101/class_007/labs/1.funciones.cadenas.ipynb#X20sZmlsZQ%3D%3D?line=3'>4</a>\u001b[0m   index\u001b[39m=\u001b[39m\u001b[39m0\u001b[39m\n",
      "\u001b[1;31mModuleNotFoundError\u001b[0m: No module named 'slugify'"
     ]
    }
   ],
   "source": [
    "from slugify import slugify\n",
    "'''no se porque no carga el modulo desde VCode, supongo que hay que instlarlo'''\n",
    "\n",
    "def es_palindromo_normalize(s):\n",
    "  index=0\n",
    "\n",
    "  s=s.replace(' ', '')\n",
    "  s = slugify(s)\n",
    "  while index <= len(s)/2:\n",
    "    if s[index] == s[-1-index]:\n",
    "      pass\n",
    "    else:\n",
    "      return False\n",
    "    index +=1\n",
    "  return True"
   ]
  },
  {
   "cell_type": "code",
   "execution_count": null,
   "metadata": {},
   "outputs": [],
   "source": [
    "es_palindromo_normalize(\"Dábale arroz a la zorra el abad\")"
   ]
  }
 ],
 "metadata": {
  "kernelspec": {
   "display_name": "Python 3",
   "language": "python",
   "name": "python3"
  },
  "language_info": {
   "codemirror_mode": {
    "name": "ipython",
    "version": 3
   },
   "file_extension": ".py",
   "mimetype": "text/x-python",
   "name": "python",
   "nbconvert_exporter": "python",
   "pygments_lexer": "ipython3",
   "version": "3.12.0"
  },
  "orig_nbformat": 4
 },
 "nbformat": 4,
 "nbformat_minor": 2
}
