{
 "cells": [
  {
   "cell_type": "markdown",
   "metadata": {},
   "source": [
    "# Condiciones booleanas más complejas\n",
    "\n",
    "--------------------------"
   ]
  },
  {
   "cell_type": "markdown",
   "metadata": {},
   "source": [
    "## Ejercicio 1\n",
    "\n",
    "En Renfe te encargan una función para determinar el precios de los billetes con la siguiente promoción:\n",
    "\n",
    "* El billete de ida y vuelta a cualquier ciudad de España cuesta €0.1 por Km recorrido en el primer tramo.\n",
    "* Si la distancia es superior a 600 Km, el precio por Km baja a €0.08.\n",
    "* Si la distancia es inferior a 100 km, el coste por km es de €0.17\n",
    "* Si la vuelta es 7 días o más después de la ida, el precio total tiene un descuento del 12%.\n",
    "\n",
    "Crea la función `ticket_cost` que recibe: distancia en km al destino final y número de dias entre la ida y la vuelta. Debe de devolver el coste total.\n",
    "\n",
    "* ¿Es una función total o parcial?"
   ]
  },
  {
   "cell_type": "code",
   "execution_count": 2,
   "metadata": {},
   "outputs": [],
   "source": [
    "def ticket_cost(distance, days):\n",
    "  new_cost=distance*0.1\n",
    "\n",
    "  if distance > 600:\n",
    "    new_cost=distance*0.08\n",
    "  elif distance < 100:\n",
    "    new_cost=distance*0.17\n",
    "  if days>=7:\n",
    "    new_cost = new_cost*0.88\n",
    "  return new_cost"
   ]
  },
  {
   "cell_type": "code",
   "execution_count": 3,
   "metadata": {},
   "outputs": [
    {
     "data": {
      "text/plain": [
       "20.0"
      ]
     },
     "execution_count": 3,
     "metadata": {},
     "output_type": "execute_result"
    }
   ],
   "source": [
    "ticket_cost(200,5)"
   ]
  },
  {
   "cell_type": "markdown",
   "metadata": {},
   "source": [
    "# Ejercicio 2\n",
    "\n",
    "En Naciones Unidas, para determinar el sueldo de un empleado, se clasifican los puestos con una letra y un número (G1, G2, P1,P2,P3, P4, P5, P6, D1, D2). Las letras se corresponden a \"General\", \"Profesional\" y \"Directivo\".\n",
    "\n",
    "Se van a actualizar los sueldos de los de nivel P. Se te encarga que escribas una función `salary_rise` que devuelva el porcentaje que le corresponde a cada uno de los P, siguendo los datos de abajo:\n",
    "\n",
    "* P1: 20%\n",
    "* P2: 22%\n",
    "* P3: 21%\n",
    "* P4: 19%\n",
    "* P5: 24%\n",
    "* P6: 15%\n",
    "\n",
    "la función recibe le número (sin la p) y devuelve el porcentaje que corresponde.\n",
    "\n",
    "* ¿Es una función total o parcial?"
   ]
  },
  {
   "cell_type": "code",
   "execution_count": 4,
   "metadata": {},
   "outputs": [],
   "source": [
    "def salary_rise(position):\n",
    "\n",
    "  assert position >= 1 and position <= 6\n",
    "  if position == 1:\n",
    "    discont = 20\n",
    "  elif position == 2:\n",
    "    discont = 22\n",
    "  elif position == 3:\n",
    "    discont = 21\n",
    "  elif position == 4:\n",
    "    discont = 19\n",
    "  elif position == 5:\n",
    "    discont = 24\n",
    "  else:\n",
    "    discont = 15\n",
    "\n",
    "  return discont"
   ]
  },
  {
   "cell_type": "code",
   "execution_count": 5,
   "metadata": {},
   "outputs": [
    {
     "data": {
      "text/plain": [
       "15"
      ]
     },
     "execution_count": 5,
     "metadata": {},
     "output_type": "execute_result"
    }
   ],
   "source": [
    "salary_rise(6)"
   ]
  },
  {
   "cell_type": "markdown",
   "metadata": {},
   "source": [
    "## Ejercicio 3\n",
    "\n",
    "Crea una función `bigger` que recibe dos números.\n",
    "\n",
    "* Si son iguales, devuelve cualquiera de ellos\n",
    "* Sino, devuelve el que sea mayor."
   ]
  },
  {
   "cell_type": "code",
   "execution_count": 6,
   "metadata": {},
   "outputs": [],
   "source": [
    "def bigger(a, b):\n",
    "  biggest=a\n",
    "  if b>a:\n",
    "    biggest=b\n",
    "  else:\n",
    "    biggest=a\n",
    "  return biggest"
   ]
  },
  {
   "cell_type": "code",
   "execution_count": 7,
   "metadata": {},
   "outputs": [
    {
     "data": {
      "text/plain": [
       "232"
      ]
     },
     "execution_count": 7,
     "metadata": {},
     "output_type": "execute_result"
    }
   ],
   "source": [
    "bigger(232, 232)"
   ]
  },
  {
   "cell_type": "markdown",
   "metadata": {},
   "source": [
    "## Ejercicio 4\n",
    "\n",
    "Crea una función que recibe  la calificación de un estudiante (entre 0 y 100). \n",
    "\n",
    "Devuelve la clasificación correspondiente: \"Sobresaliente\" (90-100), \"Notable\" (80-89), \"Aprobado\" (65-79) o \"Reprobado\" (0-64)."
   ]
  },
  {
   "cell_type": "code",
   "execution_count": 8,
   "metadata": {},
   "outputs": [],
   "source": [
    "def ratings(value):\n",
    "  rate =''\n",
    "  assert value > 0 and value < 100\n",
    "  if value>=90:\n",
    "    rate ='Sobresaliente'\n",
    "  elif value>=80:\n",
    "    rate ='Notable'\n",
    "  elif value>=65:\n",
    "    rate ='Aprobado'\n",
    "  elif value>=90:\n",
    "    rate ='Sobresaliente'\n",
    "  else:\n",
    "    rate ='Reprobado'\n",
    "  return rate"
   ]
  },
  {
   "cell_type": "code",
   "execution_count": 9,
   "metadata": {},
   "outputs": [
    {
     "data": {
      "text/plain": [
       "'Sobresaliente'"
      ]
     },
     "execution_count": 9,
     "metadata": {},
     "output_type": "execute_result"
    }
   ],
   "source": [
    "ratings(92)"
   ]
  },
  {
   "cell_type": "markdown",
   "metadata": {},
   "source": [
    "## Ejercicio 5\n",
    "\n",
    "![](cuadrante.jpg)\n",
    "\n",
    "Crea la función `classify` que recibe las coordenadas de un punto (x, y) en el plano cartesiano. \n",
    "\n",
    "Devuelve una cadena que indica  en qué cuadrante se encuentra el punto (\"primer\", \"segundo\", \"tercer\" o \"cuarto cuadrante\") o si está sobre alguno de los ejes (\"eje x\", \"eje y\"), o por último, si está en el origen (\"origen\").\n",
    "\n",
    "* ¿Es una función parcial o total?"
   ]
  },
  {
   "cell_type": "code",
   "execution_count": 10,
   "metadata": {},
   "outputs": [],
   "source": [
    "def classify(x, y):\n",
    "  position=''\n",
    "  if x==0 and y == 0:\n",
    "    position='Origen'\n",
    "  elif x==0:\n",
    "    position='Eje X'\n",
    "  elif y==0:\n",
    "    position='Eje Y'\n",
    "  elif x>0 and y>0:\n",
    "    position='Primer cuadrante'\n",
    "  elif x<0 and y>0:\n",
    "    position='Segundo cuadrante'\n",
    "  elif x<0 and y<0:\n",
    "    position='Tercer cuadrante'\n",
    "  else:\n",
    "    position='Cuarto cuadrante'\n",
    "  return position"
   ]
  },
  {
   "cell_type": "code",
   "execution_count": 11,
   "metadata": {},
   "outputs": [
    {
     "data": {
      "text/plain": [
       "'Origen'"
      ]
     },
     "execution_count": 11,
     "metadata": {},
     "output_type": "execute_result"
    }
   ],
   "source": [
    "classify(0, 0)"
   ]
  },
  {
   "cell_type": "markdown",
   "metadata": {},
   "source": [
    "## Ejercicio 6\n",
    "\n",
    "Crea la función `is_leap` que recibe un año y determina si un año es bisiesto.\n",
    "\n",
    "Un año es bisiesto si es divisible entre 4, excepto aquellos divisibles entre 100 pero no entre 400.\n",
    "\n",
    "* ¿Es un predicado?\n",
    "\n"
   ]
  },
  {
   "cell_type": "code",
   "execution_count": 17,
   "metadata": {},
   "outputs": [],
   "source": [
    "def is_leap(anno):\n",
    "  isLeap = False\n",
    "  if anno % 4 == 0 and not anno % 100 == 0:\n",
    "    isLeap = True\n",
    "  elif anno % 400 == 0:\n",
    "    isLeap = True\n",
    "  else:\n",
    "    isLeap = False\n",
    "  return isLeap"
   ]
  },
  {
   "cell_type": "code",
   "execution_count": 18,
   "metadata": {},
   "outputs": [
    {
     "data": {
      "text/plain": [
       "True"
      ]
     },
     "execution_count": 18,
     "metadata": {},
     "output_type": "execute_result"
    }
   ],
   "source": [
    "is_leap(2004)"
   ]
  },
  {
   "cell_type": "markdown",
   "metadata": {},
   "source": [
    "# Ejercicio 7\n",
    "\n",
    "Función que recibe una edad y la clasifica de la siguiene manera:  \n",
    "* \"Infancia\" (0-12 años), \n",
    "* \"Adolescencia\" (13-17 años), \n",
    "* \"Jueventud\" (18-29 años), \n",
    "* \"Adultez\" (30-59 años) \n",
    "* \"Vejez\" (60+ años)\n",
    "\n",
    "* ¿Es una función parcial o total?\n",
    "* ¿Es un predicado?"
   ]
  },
  {
   "cell_type": "code",
   "execution_count": 14,
   "metadata": {},
   "outputs": [],
   "source": [
    "def classify_age(age):\n",
    "  classifyAge =''\n",
    "  assert age >= 0\n",
    "  if age>=60:\n",
    "    classifyAge ='Vejez'\n",
    "  elif age>=30:\n",
    "    classifyAge ='Adultez'\n",
    "  elif age>=18:\n",
    "    classifyAge ='Jueventud'\n",
    "  elif age>=13:\n",
    "    classifyAge ='Adolescencia'\n",
    "  else:\n",
    "    classifyAge ='Infancia'\n",
    "  return classifyAge"
   ]
  },
  {
   "cell_type": "code",
   "execution_count": 15,
   "metadata": {},
   "outputs": [
    {
     "data": {
      "text/plain": [
       "'Adultez'"
      ]
     },
     "execution_count": 15,
     "metadata": {},
     "output_type": "execute_result"
    }
   ],
   "source": [
    "classify_age(46)"
   ]
  },
  {
   "cell_type": "markdown",
   "metadata": {},
   "source": [
    "## Ejercicio 8\n",
    "\n",
    "¿Recuerdas la función `bmi` que recibia una altura y peso y te devolvía un índice?\n",
    "\n",
    "Crea la función `classify_bmi`que recib eun bmi y devuelve una cadena indicando en qué rango está:\n",
    "\n",
    "* \"Delgado\"  : bmi < 18.5 \n",
    "* \"Saludable\": 18.5 < bmi < 24.9\n",
    "* \"Gordito\"  : 25 a 29.9\n",
    "* \"Gordo\"    : 30 a 34.9\n",
    "* \"Obeso\"    : 35 a 39.9\n",
    "* \"Jabba the Hutt\" : más de 40\n",
    "\n",
    "\n"
   ]
  },
  {
   "cell_type": "code",
   "execution_count": 19,
   "metadata": {},
   "outputs": [],
   "source": [
    "def classify_bmi(bmi):\n",
    "  classifyBmi =''\n",
    "  if bmi>=40:\n",
    "    classifyBmi ='Jabba the Hutt'\n",
    "  elif bmi>=35:\n",
    "    classifyBmi ='Obeso'\n",
    "  elif bmi>=30:\n",
    "    classifyBmi ='Gordo'\n",
    "  elif bmi>=25:\n",
    "    classifyBmi ='Gordito'\n",
    "  elif bmi>=18.5:\n",
    "    classifyBmi ='Saludable'\n",
    "  else:\n",
    "    classifyBmi ='Delgado'\n",
    "  return classifyBmi"
   ]
  },
  {
   "cell_type": "code",
   "execution_count": 20,
   "metadata": {},
   "outputs": [
    {
     "data": {
      "text/plain": [
       "'Gordo'"
      ]
     },
     "execution_count": 20,
     "metadata": {},
     "output_type": "execute_result"
    }
   ],
   "source": [
    "classify_bmi(30)"
   ]
  },
  {
   "cell_type": "markdown",
   "metadata": {},
   "source": [
    "## Ejercicio 9\n",
    "\n"
   ]
  },
  {
   "cell_type": "markdown",
   "metadata": {},
   "source": [
    "## Ejercios extra\n",
    "\n",
    "Los ha creado un amigo que luego os presentaré.\n",
    "\n",
    "Recuerda utilizar las sentencias condicionales if, else y, si es necesario, elif en la implementación de las funciones para controlar el flujo del programa y devolver el resultado adecuado en función de los argumentos proporcionados."
   ]
  },
  {
   "cell_type": "markdown",
   "metadata": {},
   "source": [
    "\n",
    "Crea la función `days_in_month`(month, year) que acepta un número de mes (1-12) y un año, y devuelve la cantidad de días que tiene ese mes. Asegúrate de tener en cuenta si es un año bisiesto para febrero."
   ]
  },
  {
   "cell_type": "code",
   "execution_count": 21,
   "metadata": {},
   "outputs": [],
   "source": [
    "def days_in_month(month, year):\n",
    "  assert month>=1 and month<=12\n",
    "  days = 0\n",
    "  if month == 1 or month == 3 or month == 5 or month == 7 or month == 8 or month == 10 or month == 12:\n",
    "    days = 31\n",
    "  elif month == 4 or month == 6 or month == 9 or month == 11:\n",
    "    days = 30\n",
    "  elif is_leap(year):\n",
    "    days = 29\n",
    "  else:\n",
    "    days = 28\n",
    "  return days"
   ]
  },
  {
   "cell_type": "code",
   "execution_count": 22,
   "metadata": {},
   "outputs": [],
   "source": [
    "def days_in_month2(month, year):\n",
    "  assert month>=1 and month<=12\n",
    "  days = 0\n",
    "  if month in(1,3,5,7,8,10,12):\n",
    "    days = 31\n",
    "  elif month in (4,6,9,11):\n",
    "    days = 30\n",
    "  elif is_leap(year):\n",
    "    days = 29\n",
    "  else:\n",
    "    days = 28\n",
    "  return days"
   ]
  },
  {
   "cell_type": "code",
   "execution_count": 24,
   "metadata": {},
   "outputs": [
    {
     "data": {
      "text/plain": [
       "29"
      ]
     },
     "execution_count": 24,
     "metadata": {},
     "output_type": "execute_result"
    }
   ],
   "source": [
    "days_in_month2(2, 2020)"
   ]
  },
  {
   "cell_type": "markdown",
   "metadata": {},
   "source": [
    "Crea la función color_semaforo(color) que acepta el color de la luz en un semáforo (rojo, amarillo o verde) y devuelve una cadena que indica qué acción debe tomar un conductor: detenerse, precaución o avanzar."
   ]
  },
  {
   "cell_type": "code",
   "execution_count": 25,
   "metadata": {},
   "outputs": [],
   "source": [
    "def color_semaforo(color):\n",
    "  action = ''\n",
    "  assert color =='rojo' or color =='amarillo' or color =='verde'\n",
    "  if color =='rojo':\n",
    "    action = 'Detenerse'\n",
    "  elif color =='amarillo':\n",
    "    action = 'Precaución'\n",
    "  else:\n",
    "    action = 'Avanzar'\n",
    "  return action"
   ]
  },
  {
   "cell_type": "code",
   "execution_count": 26,
   "metadata": {},
   "outputs": [
    {
     "data": {
      "text/plain": [
       "'Avanzar'"
      ]
     },
     "execution_count": 26,
     "metadata": {},
     "output_type": "execute_result"
    }
   ],
   "source": [
    "color_semaforo('verde')"
   ]
  },
  {
   "cell_type": "markdown",
   "metadata": {},
   "source": [
    "Crea la función estacion_del_anno(mes) que acepta un mes (1-12) y devuelve una cadena que indica la estación del año correspondiente en el hemisferio norte: primavera, verano, otoño o invierno.\n",
    "\n",
    "Averigua por tu cuneta cuando empieza cada estación."
   ]
  },
  {
   "cell_type": "code",
   "execution_count": 27,
   "metadata": {},
   "outputs": [],
   "source": [
    "def estacion_del_anno(month):\n",
    "  estacion = ''\n",
    "  assert month>=1 and month<=12\n",
    "  if month>=3 and month<=5:\n",
    "    estacion = 'Primavera'\n",
    "  elif month>=6 and month<=8:\n",
    "    estacion = 'Verano'\n",
    "  elif month>=9 and month<=11:\n",
    "    estacion = 'Otoño'\n",
    "  else:\n",
    "    estacion = 'Invierno'\n",
    "  return estacion"
   ]
  },
  {
   "cell_type": "code",
   "execution_count": 28,
   "metadata": {},
   "outputs": [],
   "source": [
    "def estacion_del_anno2(month):\n",
    "  estacion = ''\n",
    "  assert month>=1 and month<=12\n",
    "  if month==12:\n",
    "    estacion = 'Invierno'\n",
    "  elif month>=9:\n",
    "    estacion = 'Otoño'\n",
    "  elif month>=6:\n",
    "    estacion = 'Verano'\n",
    "  elif month>=3:\n",
    "    estacion = 'Primavera'\n",
    "  else:\n",
    "    estacion = 'Invierno'\n",
    "  return estacion"
   ]
  },
  {
   "cell_type": "code",
   "execution_count": 29,
   "metadata": {},
   "outputs": [
    {
     "name": "stdout",
     "output_type": "stream",
     "text": [
      "Invierno Invierno True\n",
      "Invierno Invierno True\n",
      "Primavera Primavera True\n",
      "Primavera Primavera True\n",
      "Primavera Primavera True\n",
      "Verano Verano True\n",
      "Verano Verano True\n",
      "Verano Verano True\n",
      "Otoño Otoño True\n",
      "Otoño Otoño True\n",
      "Otoño Otoño True\n",
      "Invierno Invierno True\n"
     ]
    }
   ],
   "source": [
    "def is_equal():\n",
    "  for month in range(1,13):\n",
    "    print(estacion_del_anno(month),estacion_del_anno2(month),estacion_del_anno(month)==estacion_del_anno2(month))\n",
    "is_equal()"
   ]
  },
  {
   "cell_type": "markdown",
   "metadata": {},
   "source": [
    "Crea la función rango_velocidad(velocidad) que acepta una velocidad en km/h y devuelve una cadena que indica si la velocidad es \"Lenta\", \"Moderada\", \"Rápida\" o \"Muy rápida\"."
   ]
  },
  {
   "cell_type": "code",
   "execution_count": 31,
   "metadata": {},
   "outputs": [],
   "source": [
    "def rango_velocidad(velocidad):\n",
    "  rangoVelocidad =''\n",
    "\n",
    "  assert velocidad>=0\n",
    "\n",
    "  if velocidad>=120:\n",
    "    rangoVelocidad ='Muy rápida'\n",
    "  elif velocidad>=80:\n",
    "    rangoVelocidad ='Rápida'\n",
    "  elif velocidad>=50:\n",
    "    rangoVelocidad ='Moderada'\n",
    "  else:\n",
    "    rangoVelocidad ='Lenta'\n",
    "  return rangoVelocidad"
   ]
  },
  {
   "cell_type": "code",
   "execution_count": 32,
   "metadata": {},
   "outputs": [
    {
     "data": {
      "text/plain": [
       "'Rápida'"
      ]
     },
     "execution_count": 32,
     "metadata": {},
     "output_type": "execute_result"
    }
   ],
   "source": [
    "rango_velocidad(100)"
   ]
  },
  {
   "cell_type": "markdown",
   "metadata": {},
   "source": [
    "Crea la función tipo_triangulo(a, b, c) que acepta las longitudes de los tres lados de un triángulo y devuelve una cadena que indica si el triángulo es equilátero, isósceles o escaleno."
   ]
  },
  {
   "cell_type": "code",
   "execution_count": 33,
   "metadata": {},
   "outputs": [],
   "source": [
    "def tipo_triangulo(a, b, c):\n",
    "  tipoTriangulo = ''\n",
    "  sp=(a + b + c)/2\n",
    "  assert sp * (sp - a) * (sp - b) * (sp - c)>=0\n",
    "  if a==b and b==c:\n",
    "    tipoTriangulo = 'Equilátero'\n",
    "\n",
    "  elif a==b or b==c or c==a:\n",
    "    tipoTriangulo = 'Isosceles'\n",
    "  else:\n",
    "    tipoTriangulo = 'Escaleno'\n",
    "  return tipoTriangulo"
   ]
  },
  {
   "cell_type": "code",
   "execution_count": 34,
   "metadata": {},
   "outputs": [
    {
     "data": {
      "text/plain": [
       "'Escaleno'"
      ]
     },
     "execution_count": 34,
     "metadata": {},
     "output_type": "execute_result"
    }
   ],
   "source": [
    "tipo_triangulo(3, 1, 2)"
   ]
  },
  {
   "cell_type": "markdown",
   "metadata": {},
   "source": [
    "Crea la función es_vocal(letra) que acepta un carácter y devuelve True si es una vocal (mayúscula o minúscula) y False si no lo es.\n",
    "\n",
    "Un caácter es una cadena que sólo tiene una letra. Por ejemplo \"u\" es un carácter, pero \"uau\" no lo es.\n"
   ]
  },
  {
   "cell_type": "code",
   "execution_count": 35,
   "metadata": {},
   "outputs": [],
   "source": [
    "def es_vocal(letra):\n",
    "  esVocal = ''\n",
    "  if letra.lower() in ('a', 'e', 'i', 'o', 'u'):\n",
    "    esVocal = True\n",
    "  else:\n",
    "    esVocal =False\n",
    "  return esVocal"
   ]
  },
  {
   "cell_type": "code",
   "execution_count": null,
   "metadata": {},
   "outputs": [],
   "source": [
    "def es_vocal2(letra):\n",
    "  esVocal = ''\n",
    "  if letra == 'a' or letra == 'e' or letra == 'i' or letra == 'o' or letra == 'u' or letra == 'A' or letra == 'E' or letra == 'I' or letra == 'O' or letra == 'U':\n",
    "    esVocal = True\n",
    "  else:\n",
    "    esVocal =False\n",
    "  return esVocal"
   ]
  },
  {
   "cell_type": "code",
   "execution_count": null,
   "metadata": {},
   "outputs": [],
   "source": [
    "def es_vocal3(letra):\n",
    "  esVocal = ''\n",
    "  if letra == 'a' or letra == 'e' or letra == 'i' or letra == 'o' or letra == 'u':\n",
    "    esVocal = True\n",
    "  elif letra == 'A' or letra == 'E' or letra == 'I' or letra == 'O' or letra == 'U':\n",
    "    esVocal = True\n",
    "  else:\n",
    "    esVocal =False\n",
    "  return esVocal"
   ]
  },
  {
   "cell_type": "code",
   "execution_count": 37,
   "metadata": {},
   "outputs": [
    {
     "data": {
      "text/plain": [
       "True"
      ]
     },
     "execution_count": 37,
     "metadata": {},
     "output_type": "execute_result"
    }
   ],
   "source": [
    "es_vocal('A')"
   ]
  },
  {
   "cell_type": "markdown",
   "metadata": {},
   "source": [
    "\n",
    "Crea la función calcular_precio_final(precio, impuesto, descuento) que acepta el precio original de un producto, el porcentaje de impuesto y el porcentaje de descuento, y devuelve el precio final después de aplicar el impuesto y el descuento.\n"
   ]
  },
  {
   "cell_type": "code",
   "execution_count": null,
   "metadata": {},
   "outputs": [],
   "source": []
  },
  {
   "cell_type": "markdown",
   "metadata": {},
   "source": [
    "\n",
    "Crea la función numero_a_palabras(numero) que acepta un número entero entre 1 y 10 y devuelve una cadena con el número en palabras (por ejemplo, \"uno\", \"dos\", etc.). Si el número está fuera del rango, devuelve \"Número fuera de rango\".\n"
   ]
  },
  {
   "cell_type": "code",
   "execution_count": 39,
   "metadata": {},
   "outputs": [],
   "source": [
    "def numero_a_palabras(numero):\n",
    "  numeroPalabras =''\n",
    "\n",
    "\n",
    "  if numero==1:\n",
    "    numeroPalabras ='uno'\n",
    "  elif numero==2:\n",
    "    numeroPalabras ='dos'\n",
    "  elif numero==3:\n",
    "    numeroPalabras ='tres'\n",
    "  elif numero==4:\n",
    "    numeroPalabras ='cuatro'\n",
    "  elif numero==5:\n",
    "    numeroPalabras ='cinco'\n",
    "  elif numero==6:\n",
    "    numeroPalabras ='seis'\n",
    "  elif numero==7:\n",
    "    numeroPalabras ='siete'\n",
    "  elif numero==8:\n",
    "    numeroPalabras ='ocho'\n",
    "  elif numero==9:\n",
    "    numeroPalabras ='nueve'\n",
    "  elif numero==10:\n",
    "    numeroPalabras ='diez'\n",
    "  else:\n",
    "    numeroPalabras ='Número fuera de rango'\n",
    "  return numeroPalabras"
   ]
  },
  {
   "cell_type": "code",
   "execution_count": 41,
   "metadata": {},
   "outputs": [
    {
     "data": {
      "text/plain": [
       "'tres'"
      ]
     },
     "execution_count": 41,
     "metadata": {},
     "output_type": "execute_result"
    }
   ],
   "source": [
    "numero_a_palabras(3)"
   ]
  },
  {
   "cell_type": "markdown",
   "metadata": {},
   "source": [
    "\n",
    "Crea la función multiplo_de(numero, base) que acepta dos números enteros y devuelve True si el primer número es múltiplo del segundo, y False en caso contrario.\n"
   ]
  },
  {
   "cell_type": "code",
   "execution_count": 42,
   "metadata": {},
   "outputs": [],
   "source": [
    "def multiplo_de(numero, base):\n",
    "  esMultiplo = False\n",
    "  assert type(numero) == int and type(base) == int\n",
    "  if numero%base == 0:\n",
    "    esMultiplo = True\n",
    "  else:\n",
    "    esMultiplo = False\n",
    "  return esMultiplo"
   ]
  },
  {
   "cell_type": "code",
   "execution_count": 43,
   "metadata": {},
   "outputs": [
    {
     "data": {
      "text/plain": [
       "True"
      ]
     },
     "execution_count": 43,
     "metadata": {},
     "output_type": "execute_result"
    }
   ],
   "source": [
    "multiplo_de(18, 2)"
   ]
  },
  {
   "cell_type": "markdown",
   "metadata": {},
   "source": [
    "\n",
    "Crea la función calcula_tarifa(edad) que acepta la edad de un visitante y devuelve el precio de la entrada a un evento. Si el visitante es menor de 5 años, la entrada es gratuita; si tiene entre 5 y 18 años, el precio es de 10 dólares; y si tiene 19 años o más, el precio es de 15 dólares.\n"
   ]
  },
  {
   "cell_type": "code",
   "execution_count": null,
   "metadata": {},
   "outputs": [],
   "source": [
    "def calcula_tarifa(edad):\n",
    "  price=0\n",
    "  assert edad >= 0\n",
    "  if edad < 5:\n",
    "     price = 0\n",
    "  elif edad <= 18:\n",
    "    price=10\n",
    "  else:\n",
    "     price=15\n",
    "  return price"
   ]
  },
  {
   "cell_type": "code",
   "execution_count": null,
   "metadata": {},
   "outputs": [],
   "source": [
    "calcula_tarifa(12)"
   ]
  },
  {
   "cell_type": "markdown",
   "metadata": {},
   "source": [
    "\n",
    "Crea la función clasifica_numeros(a, b, c) que acepta tres números enteros y devuelve una cadena que indica si los números están en orden ascendente, descendente o si no tienen un orden específico.\n"
   ]
  },
  {
   "cell_type": "code",
   "execution_count": null,
   "metadata": {},
   "outputs": [],
   "source": [
    "def  clasifica_numeros(a, b, c):\n",
    "  clasificaNumeros = ''\n",
    "  if a>=b and b>=c:\n",
    "    clasificaNumeros = 'Descendente'\n",
    "  elif c>=b and b>=a:\n",
    "    clasificaNumeros = 'Ascendente'\n",
    "  else:\n",
    "    clasificaNumeros = 'Desordenados'\n",
    "  return clasificaNumeros"
   ]
  },
  {
   "cell_type": "code",
   "execution_count": null,
   "metadata": {},
   "outputs": [],
   "source": [
    "clasifica_numeros(3, 2, 2323)"
   ]
  },
  {
   "cell_type": "markdown",
   "metadata": {},
   "source": [
    "\n",
    "Crea la función tiempo_a_segundos(horas, minutos, segundos) que acepta horas, minutos y segundos y devuelve el tiempo total en segundos.\n"
   ]
  },
  {
   "cell_type": "code",
   "execution_count": 44,
   "metadata": {},
   "outputs": [],
   "source": [
    "def  tiempo_a_segundos(horas, minutos, segundos):\n",
    "  return segundos + minutos*60 + horas*360"
   ]
  },
  {
   "cell_type": "code",
   "execution_count": 45,
   "metadata": {},
   "outputs": [
    {
     "data": {
      "text/plain": [
       "421"
      ]
     },
     "execution_count": 45,
     "metadata": {},
     "output_type": "execute_result"
    }
   ],
   "source": [
    "tiempo_a_segundos(1, 1, 1)"
   ]
  },
  {
   "cell_type": "markdown",
   "metadata": {},
   "source": [
    "\n",
    "Crea la función puntuacion_juego(puntuacion) que acepta la puntuación en un juego y devuelve una cadena que indica el rango de puntuación: \"Principiante\" (0-500), \"Intermedio\" (501-2000) o \"Experto\" (más de 2000)."
   ]
  },
  {
   "cell_type": "code",
   "execution_count": null,
   "metadata": {},
   "outputs": [],
   "source": [
    "def puntuacion_juego(puntuacion):\n",
    "  range=''\n",
    "  assert puntuacion>=0\n",
    "\n",
    "  if puntuacion>2000:\n",
    "    range ='Experto'\n",
    "  elif puntuacion>500:\n",
    "    range ='Intermedio'\n",
    "  else:\n",
    "    range ='Principiante'\n",
    "  return range"
   ]
  },
  {
   "cell_type": "code",
   "execution_count": null,
   "metadata": {},
   "outputs": [],
   "source": [
    "puntuacion_juego(123123)"
   ]
  }
 ],
 "metadata": {
  "kernelspec": {
   "display_name": "Python 3 (ipykernel)",
   "language": "python",
   "name": "python3"
  },
  "language_info": {
   "codemirror_mode": {
    "name": "ipython",
    "version": 3
   },
   "file_extension": ".py",
   "mimetype": "text/x-python",
   "name": "python",
   "nbconvert_exporter": "python",
   "pygments_lexer": "ipython3",
   "version": "3.12.0"
  }
 },
 "nbformat": 4,
 "nbformat_minor": 2
}
