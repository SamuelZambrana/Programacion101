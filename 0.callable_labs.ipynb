{
 "cells": [
  {
   "attachments": {},
   "cell_type": "markdown",
   "metadata": {},
   "source": [
    "# Callable\n",
    "\n",
    "--------------"
   ]
  },
  {
   "attachments": {},
   "cell_type": "markdown",
   "metadata": {},
   "source": [
    "##### (0) Compresor Universal\n",
    "\n",
    "Añade la información de tipo a la función que recibe el compresor universal.\n",
    "\n"
   ]
  },
  {
   "cell_type": "code",
   "execution_count": 6,
   "metadata": {},
   "outputs": [],
   "source": [
    "from typing import Callable\n",
    "\n",
    "def compress(elements:list, initial_value:int, operation:Callable[[int, int], int])->int:\n",
    "    accum = initial_value\n",
    "    for element in elements:\n",
    "        accum = operation(accum, element)\n",
    "    return accum "
   ]
  },
  {
   "attachments": {},
   "cell_type": "markdown",
   "metadata": {},
   "source": [
    "##### (1) Transformador Universal\n",
    "\n",
    "Añade la información de tipo a la función que recibe el transformador universal."
   ]
  },
  {
   "cell_type": "code",
   "execution_count": 7,
   "metadata": {},
   "outputs": [],
   "source": [
    "def transform(elements:list, change_element:Callable[int,int])->list:\n",
    "    new_list = []\n",
    "    for element in elements:\n",
    "        new_list.append(change_element(element))\n",
    "    return new_list"
   ]
  }
 ],
 "metadata": {
  "kernelspec": {
   "display_name": "Python 3",
   "language": "python",
   "name": "python3"
  },
  "language_info": {
   "codemirror_mode": {
    "name": "ipython",
    "version": 3
   },
   "file_extension": ".py",
   "mimetype": "text/x-python",
   "name": "python",
   "nbconvert_exporter": "python",
   "pygments_lexer": "ipython3",
   "version": "3.12.0"
  },
  "orig_nbformat": 4
 },
 "nbformat": 4,
 "nbformat_minor": 2
}
