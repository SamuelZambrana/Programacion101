{
 "cells": [
  {
   "attachments": {},
   "cell_type": "markdown",
   "metadata": {},
   "source": [
    "# Matrices\n",
    "\n",
    "\n",
    "------------------------------------------"
   ]
  },
  {
   "attachments": {},
   "cell_type": "markdown",
   "metadata": {},
   "source": [
    "#### (0) make_list\n",
    "\n",
    "Crea la función `make_list(size:int, value: int | float, index: int, fill: int| float)`. Recibe tres parámetros:\n",
    "\n",
    "* `size`: la longitud de de la lista que se va a crear.\n",
    "* `value`: Un entero o float que se va a meter en una cierta posición de la lista.\n",
    "* `index`: la posición donde se va a meter `value`\n",
    "* `fill`: El valor que vamos a meter en las demás posiciones\n",
    "\n",
    "Por ejemplo, \n",
    "\n",
    "`make_list(4, 1, 2, 0) == [0,0,1,0]`\n",
    "\n",
    "Si `index` tienen un valor imposible, lanza una excepción `ValueError`.\n",
    "\n",
    "1. Una función que crea un tipo (por ejemplo  una lista, un lol, una matriz) se le llamam un *constructor*.\n",
    "2. Añade la información de tipos a los parámetros y valor de retorno.\n",
    "   "
   ]
  },
  {
   "cell_type": "code",
   "execution_count": 2,
   "metadata": {},
   "outputs": [],
   "source": [
    "def make_list(size:int, value: int | float, index: int, fill: int| float)->list[list]:\n",
    "    new_list = []\n",
    "    for indice in range(size):\n",
    "        if indice == index:\n",
    "            new_list.append(value)\n",
    "        else:\n",
    "            new_list.append(fill)\n",
    "    return new_list"
   ]
  },
  {
   "cell_type": "code",
   "execution_count": 3,
   "metadata": {},
   "outputs": [
    {
     "data": {
      "text/plain": [
       "[0, 0, 1, 0]"
      ]
     },
     "execution_count": 3,
     "metadata": {},
     "output_type": "execute_result"
    }
   ],
   "source": [
    "make_list(4, 1, 2, 0)"
   ]
  },
  {
   "attachments": {},
   "cell_type": "markdown",
   "metadata": {},
   "source": [
    "#### (1) is_matrix\n",
    "\n",
    "Crea el predicado `is_matrix` que devuelve true si un lol es una matriz. Repasa los requisitos para que un lol sea una matriz"
   ]
  },
  {
   "cell_type": "code",
   "execution_count": 5,
   "metadata": {},
   "outputs": [],
   "source": [
    "Lol = list[list]\n",
    "def is_matrix(matrix:Lol)->bool:\n",
    "    isMatrix = False\n",
    "    len_of_files = len(matrix[0])\n",
    "    for file in matrix:\n",
    "        if len(file) == len_of_files:\n",
    "            isMatrix =  True\n",
    "        else:\n",
    "            isMatrix = False\n",
    "            break\n",
    "    return isMatrix\n",
    "    \n",
    "    "
   ]
  },
  {
   "attachments": {},
   "cell_type": "markdown",
   "metadata": {},
   "source": [
    "#### (2) num_of_columns\n",
    "\n",
    "Crea una función que recibe una matrix y devuelve el número de *columnas*.\n"
   ]
  },
  {
   "cell_type": "code",
   "execution_count": null,
   "metadata": {},
   "outputs": [],
   "source": [
    "def num_of_columns(matrix:Lol)->int:\n",
    "    if is_matrix(matrix):\n",
    "        return len(matrix[0])\n",
    "    else:\n",
    "        raise ValueError('No es una matriz')\n",
    "    "
   ]
  },
  {
   "attachments": {},
   "cell_type": "markdown",
   "metadata": {},
   "source": [
    "#### (3) num_of_rows\n",
    "\n",
    "Crea una función que recibe una matrix y devuelve el número de *filas*."
   ]
  },
  {
   "cell_type": "code",
   "execution_count": 6,
   "metadata": {},
   "outputs": [],
   "source": [
    "def num_of_rows(matrix:Lol)->int:\n",
    "    if is_matrix(matrix):\n",
    "        return len(matrix)\n",
    "    else:\n",
    "        raise ValueError('No es una matriz')"
   ]
  },
  {
   "attachments": {},
   "cell_type": "markdown",
   "metadata": {},
   "source": [
    "#### (4) is_square_matrix\n",
    "\n",
    "Crea el predicado que recibe un lol y devuelve si es una matriz cuadrada. ¿Puedes reaprovechar algunas de las funciones que ya has creado?\n",
    "\n"
   ]
  },
  {
   "cell_type": "code",
   "execution_count": 8,
   "metadata": {},
   "outputs": [],
   "source": [
    "def is_square_matrix(matrix:Lol)->bool:\n",
    "    is_square = False\n",
    "    if num_of_rows(matrix) == num_of_columns(matrix):\n",
    "        is_square = True\n",
    "    else:\n",
    "        is_square = False\n",
    "    return is_square"
   ]
  },
  {
   "attachments": {},
   "cell_type": "markdown",
   "metadata": {},
   "source": [
    "#### (5) make_zero_matrix\n",
    "\n",
    "Una matriz-cero es aquella cuyos elementos son todos `0`. Crea la función que recibe 2 parámetros:\n",
    "\n",
    "* número de columnas\n",
    "* número de filas\n",
    "\n",
    "Devuelve la matriz cero del tamaño que se ha pedido"
   ]
  },
  {
   "cell_type": "code",
   "execution_count": 79,
   "metadata": {},
   "outputs": [],
   "source": [
    "def make_zero_matrix(columns:int, rows:int)->list[list]:\n",
    "    new_matrix = []\n",
    "    for index in range(rows):\n",
    "        new_row = []\n",
    "        for index in range(columns):\n",
    "            new_row.append(0)\n",
    "        new_matrix.append(new_row)\n",
    "    return new_matrix"
   ]
  },
  {
   "cell_type": "code",
   "execution_count": 80,
   "metadata": {},
   "outputs": [
    {
     "data": {
      "text/plain": [
       "[[0, 0, 0, 0, 0, 0, 0, 0, 0, 0, 0, 0, 0, 0, 0, 0, 0, 0, 0, 0],\n",
       " [0, 0, 0, 0, 0, 0, 0, 0, 0, 0, 0, 0, 0, 0, 0, 0, 0, 0, 0, 0],\n",
       " [0, 0, 0, 0, 0, 0, 0, 0, 0, 0, 0, 0, 0, 0, 0, 0, 0, 0, 0, 0],\n",
       " [0, 0, 0, 0, 0, 0, 0, 0, 0, 0, 0, 0, 0, 0, 0, 0, 0, 0, 0, 0]]"
      ]
     },
     "execution_count": 80,
     "metadata": {},
     "output_type": "execute_result"
    }
   ],
   "source": [
    "make_zero_matrix(20,4)"
   ]
  },
  {
   "attachments": {},
   "cell_type": "markdown",
   "metadata": {},
   "source": [
    "#### (6) make_identity_matrix\n",
    "\n",
    "Una matriz identidad es aquella cuyos elementos son todos `1`. Crea la función que recibe 2 parámetros:\n",
    "\n",
    "* número de columnas\n",
    "* número de filas\n",
    "\n",
    "Devuelve la matriz identidad del tamaño que se ha pedido"
   ]
  },
  {
   "cell_type": "code",
   "execution_count": 25,
   "metadata": {},
   "outputs": [],
   "source": [
    "def make_identity_matrix(columns:int, rows:int)->list[list]:\n",
    "    new_matrix = []\n",
    "    for index1 in range(rows):\n",
    "        new_row = []\n",
    "        for index2 in range(columns):\n",
    "            new_row.append(1)\n",
    "        new_matrix.append(new_row)\n",
    "    return new_matrix"
   ]
  },
  {
   "cell_type": "code",
   "execution_count": 26,
   "metadata": {},
   "outputs": [
    {
     "data": {
      "text/plain": [
       "[[1, 1, 1, 1, 1, 1, 1, 1, 1, 1, 1, 1, 1, 1, 1, 1, 1, 1, 1, 1, 1],\n",
       " [1, 1, 1, 1, 1, 1, 1, 1, 1, 1, 1, 1, 1, 1, 1, 1, 1, 1, 1, 1, 1],\n",
       " [1, 1, 1, 1, 1, 1, 1, 1, 1, 1, 1, 1, 1, 1, 1, 1, 1, 1, 1, 1, 1],\n",
       " [1, 1, 1, 1, 1, 1, 1, 1, 1, 1, 1, 1, 1, 1, 1, 1, 1, 1, 1, 1, 1],\n",
       " [1, 1, 1, 1, 1, 1, 1, 1, 1, 1, 1, 1, 1, 1, 1, 1, 1, 1, 1, 1, 1],\n",
       " [1, 1, 1, 1, 1, 1, 1, 1, 1, 1, 1, 1, 1, 1, 1, 1, 1, 1, 1, 1, 1],\n",
       " [1, 1, 1, 1, 1, 1, 1, 1, 1, 1, 1, 1, 1, 1, 1, 1, 1, 1, 1, 1, 1],\n",
       " [1, 1, 1, 1, 1, 1, 1, 1, 1, 1, 1, 1, 1, 1, 1, 1, 1, 1, 1, 1, 1],\n",
       " [1, 1, 1, 1, 1, 1, 1, 1, 1, 1, 1, 1, 1, 1, 1, 1, 1, 1, 1, 1, 1],\n",
       " [1, 1, 1, 1, 1, 1, 1, 1, 1, 1, 1, 1, 1, 1, 1, 1, 1, 1, 1, 1, 1],\n",
       " [1, 1, 1, 1, 1, 1, 1, 1, 1, 1, 1, 1, 1, 1, 1, 1, 1, 1, 1, 1, 1],\n",
       " [1, 1, 1, 1, 1, 1, 1, 1, 1, 1, 1, 1, 1, 1, 1, 1, 1, 1, 1, 1, 1],\n",
       " [1, 1, 1, 1, 1, 1, 1, 1, 1, 1, 1, 1, 1, 1, 1, 1, 1, 1, 1, 1, 1],\n",
       " [1, 1, 1, 1, 1, 1, 1, 1, 1, 1, 1, 1, 1, 1, 1, 1, 1, 1, 1, 1, 1],\n",
       " [1, 1, 1, 1, 1, 1, 1, 1, 1, 1, 1, 1, 1, 1, 1, 1, 1, 1, 1, 1, 1],\n",
       " [1, 1, 1, 1, 1, 1, 1, 1, 1, 1, 1, 1, 1, 1, 1, 1, 1, 1, 1, 1, 1],\n",
       " [1, 1, 1, 1, 1, 1, 1, 1, 1, 1, 1, 1, 1, 1, 1, 1, 1, 1, 1, 1, 1],\n",
       " [1, 1, 1, 1, 1, 1, 1, 1, 1, 1, 1, 1, 1, 1, 1, 1, 1, 1, 1, 1, 1],\n",
       " [1, 1, 1, 1, 1, 1, 1, 1, 1, 1, 1, 1, 1, 1, 1, 1, 1, 1, 1, 1, 1],\n",
       " [1, 1, 1, 1, 1, 1, 1, 1, 1, 1, 1, 1, 1, 1, 1, 1, 1, 1, 1, 1, 1],\n",
       " [1, 1, 1, 1, 1, 1, 1, 1, 1, 1, 1, 1, 1, 1, 1, 1, 1, 1, 1, 1, 1]]"
      ]
     },
     "execution_count": 26,
     "metadata": {},
     "output_type": "execute_result"
    }
   ],
   "source": [
    "make_identity_matrix(21,21)"
   ]
  },
  {
   "attachments": {},
   "cell_type": "markdown",
   "metadata": {},
   "source": [
    "#### (7) make_constant_matrix\n",
    "\n",
    "Las dos funciones anteriores son demasiado parecidas. Crea la función `make_constant_matrix` que recibe 3 parámetros:\n",
    "\n",
    "* número de columnas\n",
    "* número de filas\n",
    "* valor de todos los elementos\n",
    "\n",
    "Además, re-escribe `make-zero-matriz` y `make-identity-matrix` en base a la que acabase de crear.\n",
    "\n",
    "1. ¿Qué tipo de función son?"
   ]
  },
  {
   "cell_type": "code",
   "execution_count": 20,
   "metadata": {},
   "outputs": [],
   "source": [
    "def make_constant_matrix(columns:int, rows:int, value:any)->list[list]:\n",
    "    new_matrix = []\n",
    "    for index1 in range(rows):\n",
    "        new_row = []\n",
    "        for index2 in range(columns):\n",
    "            new_row.append(value)\n",
    "        new_matrix.append(new_row)\n",
    "    return new_matrix"
   ]
  },
  {
   "cell_type": "code",
   "execution_count": 24,
   "metadata": {},
   "outputs": [
    {
     "data": {
      "text/plain": [
       "[['X', 'X', 'X', 'X'],\n",
       " ['X', 'X', 'X', 'X'],\n",
       " ['X', 'X', 'X', 'X'],\n",
       " ['X', 'X', 'X', 'X']]"
      ]
     },
     "execution_count": 24,
     "metadata": {},
     "output_type": "execute_result"
    }
   ],
   "source": [
    "make_constant_matrix(4,4,'X')"
   ]
  },
  {
   "attachments": {},
   "cell_type": "markdown",
   "metadata": {},
   "source": [
    "#### (8) Información de tipo de una matriz\n",
    "\n",
    "La información de tipo de un lol de `int|float`, sería la siguiente:\n",
    "`list[list[int|float]]`.\n",
    "\n",
    "¿Cual sería el tipo de una matriz?\n",
    "\n",
    "**Explicación**\n",
    "\n",
    "Podemos indicar que se trata de una lista de listas de `int|float`, pero cómo indicamos que todas las listas (columnas) han de tener la misma longitud?\n",
    "\n",
    "Sólo con los tipos no podemos. Nos falta un `predicado` que indique la limitación del tamaño de las columnas.\n",
    "\n",
    "> Ni en Python, ni en ningún lenguaje normal se puede representar eso con los tipos.\n",
    "\n",
    "Un tipo compuesto por un *tipo normal* y uin predicado, se llama un **Tipo Dependiente** y es algo que muy pocos lenguajes tienen.\n",
    "\n",
    "UN ejemplo de lenguaje con tipos dependientes es [Idris](https://www.idris-lang.org/) pero es un lenguaje académico, usado para la investigación en lenguajes de programación.\n",
    "\n",
    "Esto nos permitiría representar con l ainfromación de tipos, cosas cómo:\n",
    "\n",
    "* listas que siempre están ordenadas\n",
    "* cadenas que siempre están en mayúsculas\n",
    "* listas de números que son siemrpre positivos\n",
    "* matrices que jamás tienen un `None`\n",
    "* etc...\n",
    "\n",
    "Es posible que en algunos años algunos lenguajes de uso común, empiecen a tener **Tipos Dependientes**. De momento, toca esperar.\n"
   ]
  },
  {
   "attachments": {},
   "cell_type": "markdown",
   "metadata": {},
   "source": [
    "#### (9) make_diagonal_matrix\n",
    "\n",
    "Una matriz diagonal es una *matriz cuadrada* que sólo tienen valores no nulos en la diagonal principal. Todos los demás tienen que ser ceros.\n",
    "\n",
    "Por ejemplo:\n",
    "\n",
    "\\begin{bmatrix}\n",
    "1 & 0 & 0 \\\\\n",
    "0 & 5 & 0 \\\\\n",
    "0 & 0 & -5\n",
    "\\end{bmatrix}\n",
    "\n",
    "Crea la función `make_diagonal_matrix` que recibe 2 parámetros:\n",
    "\n",
    "1. Tamaño\n",
    "2. Lista con los valores que irán en la diagonal principal.\n",
    "   \n",
    "**Ayuda**\n",
    "\n",
    "1. ¿Qué tamaño debe de tener la lista de la diagonal principal? Es decir, si tienes una matriz cuadrada de tamaño 6, cual será la longitud de la diagonal principal?\n",
    "2. Si la lista de valores de la diagonal principal está fuera del rango adecuado, lanza una excepción. Averigua en la documentación de Python cual es la más adecuada para dicho error.\n",
    "1. ¿Cómo dividirías el problema? ¿Podría romperlo en crear cada una de las listas que represnetan las columnas y luego combinar esa en una matriz?\n",
    "2. ¿Qué parámtros debería de recibir la función para crear las columnas? ¿Crees que podrías aprovechar alguna función que ya hasyas creado?\n",
    "\n",
    "DIVIDE & VENCERÁS\n",
    "\n",
    "LOS PROBLEMAS SE ROMPEN, LAS SOLUCIONES SE COMBINAN\n",
    "\n",
    "\n"
   ]
  },
  {
   "cell_type": "code",
   "execution_count": 33,
   "metadata": {},
   "outputs": [],
   "source": [
    "def make_diagonal_matrix(size:int, value:list)->list[list]:\n",
    "    new_matrix = []\n",
    "    if len(value)!= size:\n",
    "        raise ValueError('No hay suficientes elemento para la diagonal')\n",
    "    else:\n",
    "        for index1 in range(size):\n",
    "            new_row = []\n",
    "            for index2 in range(size):\n",
    "                if index1 == index2:\n",
    "                    new_row.append(value[index1])\n",
    "                else:\n",
    "                    new_row.append(0)\n",
    "            new_matrix.append(new_row)\n",
    "    return new_matrix"
   ]
  },
  {
   "cell_type": "code",
   "execution_count": 34,
   "metadata": {},
   "outputs": [
    {
     "data": {
      "text/plain": [
       "[[9, 0, 0, 0, 0],\n",
       " [0, 8, 0, 0, 0],\n",
       " [0, 0, 7, 0, 0],\n",
       " [0, 0, 0, 6, 0],\n",
       " [0, 0, 0, 0, 5]]"
      ]
     },
     "execution_count": 34,
     "metadata": {},
     "output_type": "execute_result"
    }
   ],
   "source": [
    "make_diagonal_matrix(5,[9,8,7,6,5])"
   ]
  },
  {
   "attachments": {},
   "cell_type": "markdown",
   "metadata": {},
   "source": [
    "#### (10) make_scalar_matrix\n",
    "\n",
    "Una matriz escalar es parecida a la matriz diagonal, con una limitación extra: todos los elementos de la diagonal principal han de ser iguales:\n",
    "\n",
    "\n",
    "\\begin{bmatrix}\n",
    "10 & 0 & 0 \\\\\n",
    "0 & 10 & 0 \\\\\n",
    "0 & 0 & 10\n",
    "\\end{bmatrix}\n",
    "\n",
    "\n",
    "Crea la función `make_scalar_matrix` que recibe dos parámetros:\n",
    "\n",
    "1. El tamaño\n",
    "2. El valor que irá en la diagonal principal\n",
    "\n",
    "¿Crees que podrías reaprovechar algo de lo que ya tienes? \n",
    "\n",
    "DRY\n"
   ]
  },
  {
   "cell_type": "code",
   "execution_count": null,
   "metadata": {},
   "outputs": [],
   "source": [
    "def make_scalar_matrix(size:int, value:any)->list[list]:\n",
    "    new_matrix = []\n",
    "    for index1 in range(size):\n",
    "        new_column = []\n",
    "        for index2 in range(size):\n",
    "            if index1 == index2:\n",
    "                new_column.append(value)\n",
    "            else:\n",
    "                new_column.append(0)\n",
    "        new_matrix.append(new_column)\n",
    "    return new_matrix"
   ]
  },
  {
   "attachments": {},
   "cell_type": "markdown",
   "metadata": {},
   "source": [
    "#### (11) scalar_product\n",
    "\n",
    "Se llama *producto escalar* cuando multiplicas un número por una matriz (cuadrada o no).\n",
    "\n",
    "El procedimiento es multiplicar cada uno de los elementos de la matriz por el número.\n",
    "\n",
    "Crea la función correspondiente. Si recibe suna matriz nula (`[]`), devuelve la `[]`.\n",
    "\n"
   ]
  },
  {
   "cell_type": "code",
   "execution_count": 35,
   "metadata": {},
   "outputs": [],
   "source": [
    "def scalar_product(matrix:Lol, number:int|float)->Lol:\n",
    "    scalar_matrix = []\n",
    "    for row in matrix:\n",
    "        new_column = []\n",
    "        for element in row:\n",
    "            new_column.append(element*number)\n",
    "        scalar_matrix.append(new_column)\n",
    "    return scalar_matrix"
   ]
  },
  {
   "attachments": {},
   "cell_type": "markdown",
   "metadata": {},
   "source": [
    "#### (12) transpose\n",
    "\n",
    "Una operación muy común con matrices se llama transposición. Consiste en cambiar filas por columnas. Veamos un ejemplo:\n",
    "\n",
    "Una matriz escalar es parecida a la matriz diagonal, con una limitación extra: todos los elementos de la diagonal principal han de ser iguales:\n",
    "\n",
    "Matriz original:\n",
    "\n",
    "\\begin{bmatrix}\n",
    "0 & 2 & 6 \\\\\n",
    "1 & 3 & 7 \\\\\n",
    "\\end{bmatrix}\n",
    "\n",
    "Matriz transpuesta:\n",
    "\n",
    "\\begin{bmatrix}\n",
    "0 & 1 \\\\\n",
    "2 & 3 \\\\\n",
    "6 & 7\n",
    "\\end{bmatrix}\n",
    "\n",
    "**Lo que antes eran filas ahora son columnas**\n",
    "\n",
    "Esta e suna operación que se usa mucho en efectos gráficos, 3D, tratamiento de datos y procesamiento de imágnes, además de en IA y Deep Learning.\n",
    "\n",
    "\n",
    "\n",
    "1. Crea la función `transpose` que recibe una matriz (no tiene por qué ser cuadrada) y devuelve su transpuesta.\n",
    "\n",
    "\n",
    "**Ayuda**\n",
    "\n",
    "Parece chungo. El *Divide & Vencerás*, no parece que ayude mucho aquí, porque lo natural sería hacerlo por columnas, pero en cada paso hay que usar datos de todas las columnas. Parece que pinchamos en hueso. \n",
    "\n",
    "Cuando *Divide y Vencerás* falla, tiramos de su primo hermano: *Transforma y Vencerás*. Vamos a transformar el problema de algo que no sabemos resolver (*cambiar filas por columnas*) a otro que podamos meter mano.\n",
    "\n",
    "\n",
    "\n",
    "Para ello, vamos a mirar de nuevo las dos matrices (la original y la transpuesta) con otros ojos e intentar [\"pensar diferente\"](https://www.youtube.com/watch?v=nmginVTDYgc)\n",
    "\n",
    "\n",
    "Matriz original:\n",
    "\n",
    "\\begin{bmatrix}\n",
    "0 & 2 & 6 \\\\\n",
    "1 & 3 & 7 \\\\\n",
    "\\end{bmatrix}\n",
    "\n",
    "Matriz transpuesta:\n",
    "\n",
    "\\begin{bmatrix}\n",
    "0 & 1 \\\\\n",
    "2 & 3 \\\\\n",
    "6 & 7\n",
    "\\end{bmatrix}\n",
    "\n",
    "1. La *primera* columna de la transpuesta, está compuesta por los *primeros* elementos de las columnas de la original.\n",
    "2. La *segunda* columna de la transpuesta, está compuesta por los *segundos* elementos de las columnas de la original.\n",
    "3. y así sucesivamente\n",
    "\n",
    "![](smart_guy.jpg)\n",
    "\n",
    "Ahora lo tengo. Viéndolo de esta nueva froma, ya puedo aplicar Divide & Vencerás:\n",
    "\n",
    "1. Cada nueva columna es una lista que se crea a partir la matriz original, extrayendo los elementos del índice correspondiente: primero el 0, luego el 1, luego el 2, etc...\n",
    "2. Juraría que tengo una función que hace precisamente eso. Se llamaba `get_nths`. DRY\n",
    "\n",
    "**Resumen**\n",
    "\n",
    "1. Intentamos aplicar *Divide & Vencerás*, y nos fue como el 🍑\n",
    "2. Aplicamos *Transforma & Vencerás*, rompimos la resistencia del enemigo,\n",
    "   1. Le metimos un *Divide & Vencerás* por donde no llega el sol\n",
    "   2. Aplicamos un DRY para no repetir código\n",
    "   3. Combinamos las soluciones parciales\n",
    "4. Salimos victoriosos cual programador con pelo en el pecho, auténticos Giga Chads del Código.\n",
    "\n",
    "![](giga_chad.jpeg)\n",
    "\n",
    "Con un par, sí señor.\n",
    "\n"
   ]
  },
  {
   "cell_type": "code",
   "execution_count": 42,
   "metadata": {},
   "outputs": [],
   "source": [
    "def get_nths(lol:list[make_list], position:int)->list[int|float|None]:\n",
    "    result_list = []\n",
    "    for sublist in lol:\n",
    "     \n",
    "        if len(sublist) < position:\n",
    "            result_list.append(None)\n",
    "        else:\n",
    "            \n",
    "            result_list.append(sublist[position-1])\n",
    "          \n",
    "    return result_list"
   ]
  },
  {
   "cell_type": "code",
   "execution_count": 102,
   "metadata": {},
   "outputs": [],
   "source": [
    "def traspose_matrix(matrix):\n",
    "    trasposed = []\n",
    "    if matrix ==[]:\n",
    "        return trasposed\n",
    "    for index in range(len(matrix[0])):\n",
    "        newfile = get_nths(matrix, index+1)\n",
    "        trasposed.append(newfile)\n",
    "    return trasposed\n",
    "    "
   ]
  },
  {
   "cell_type": "code",
   "execution_count": 106,
   "metadata": {},
   "outputs": [
    {
     "data": {
      "text/plain": [
       "[]"
      ]
     },
     "execution_count": 106,
     "metadata": {},
     "output_type": "execute_result"
    }
   ],
   "source": [
    "traspose_matrix([[],[1]])"
   ]
  },
  {
   "cell_type": "code",
   "execution_count": 105,
   "metadata": {},
   "outputs": [
    {
     "name": "stdout",
     "output_type": "stream",
     "text": [
      "[2] [1]\n"
     ]
    }
   ],
   "source": [
    "print(*[[2],[1]])"
   ]
  },
  {
   "attachments": {},
   "cell_type": "markdown",
   "metadata": {},
   "source": [
    "#### (13) print_matrix\n",
    "\n",
    "Vamos a hacer algo muy sencillo, que tal vez tendríamos que haber hecho antes: una función que imprime una matriz.\n",
    "\n",
    "Si recibes esta matriz,\n",
    "\n",
    "\\begin{bmatrix}\n",
    "0 & 2 & 6 \\\\\n",
    "1 & 3 & 7 \\\\\n",
    "\\end{bmatrix}\n",
    "\n",
    "deberás, usando la función `print` de Python , imprimirla con esta pinta:\n",
    "\n",
    "```\n",
    "|0  2   6|\n",
    "|1  3   7|\n",
    "\n",
    "```\n",
    "\n",
    "1. Para aplicar Divide & Vencerás lo tienes chungo, porque lo que te da la matriz son las columnas, y tú necesitas las filas para ir imprimiéndolas una por linea.\n",
    "2. Si supieses de alguna forma de transformar la matriz para tener las antiguas filas como columnas, igual era más fácil...\n",
    "\n",
    "1. Mira la documentación de la función `print` para ver cómo puedes hacer que quede más bonito y alineado (mira `\\t` a ver qué significa).\n",
    "2. Escribe la información de tipo de la función. ¿Qué devuelve? "
   ]
  },
  {
   "attachments": {},
   "cell_type": "markdown",
   "metadata": {},
   "source": [
    "### RESUMEN\n",
    "\n",
    "![](transforma_divide.jpeg)\n",
    "\n",
    "1. Aplica *Divide & Vencerás* si el problema es chungo. Divide hasta que llegues a un subproblema que sea trivial de resolver. \n",
    "2. Resuelve los subproblemas\n",
    "3. Combina las soluciones de los sobproblemas hasta tener la solución total: *Los problemas se rompen, las soluciones se combinan*.\n",
    "4. Si el problema original no se puede Dividir fácilmente, ¡haz trampa! *Transforma* el problema en uno que ya tengas resuelto o en uno que puedas subdividir: *Transforma & Vencerás*.\n",
    "5. Aplica *DRY* a lo largo de todo el proceso.\n",
    "\n",
    "> Armado con los *Pilares de la Ciberkinesis*, ningún problema (informático o no) se te resistirá.\n",
    "\n"
   ]
  },
  {
   "cell_type": "code",
   "execution_count": 108,
   "metadata": {},
   "outputs": [],
   "source": [
    "def stringify_lol2(lol:list[list[any]], separator:str='')->list[str]:\n",
    "    resultlist = []\n",
    "    for sublist in lol:\n",
    "        substring = ''\n",
    "        for index in range(len(sublist)):\n",
    "            substring = substring + str(sublist[index])\n",
    "            if index+1 < len(sublist):\n",
    "                substring = substring + separator\n",
    "        resultlist.append(substring)\n",
    "    return resultlist"
   ]
  },
  {
   "cell_type": "code",
   "execution_count": 113,
   "metadata": {},
   "outputs": [
    {
     "name": "stdout",
     "output_type": "stream",
     "text": [
      "\n"
     ]
    }
   ],
   "source": [
    "print(stringify_lol2([[1,2,3],[4,5,6],[]], '\\t'))"
   ]
  },
  {
   "cell_type": "code",
   "execution_count": 95,
   "metadata": {},
   "outputs": [],
   "source": [
    "def print_matrix(matrix)->None:\n",
    "    stringlist= stringify_lol2(traspose_matrix(matrix),'\\t')\n",
    "    for filestring in stringlist:\n",
    "        print ('|\\t'+ filestring + '\\t|')"
   ]
  },
  {
   "cell_type": "code",
   "execution_count": 96,
   "metadata": {},
   "outputs": [
    {
     "name": "stdout",
     "output_type": "stream",
     "text": [
      "|\t1\t4\t7\t|\n",
      "|\t2\t5\t8\t|\n",
      "|\t2\t6\t6\t|\n",
      "|\t3\t6\t7\t|\n"
     ]
    }
   ],
   "source": [
    "print_matrix([[1,2,2,3],[4,5,6,6],[7,8,6,7]])"
   ]
  },
  {
   "cell_type": "code",
   "execution_count": 115,
   "metadata": {},
   "outputs": [
    {
     "name": "stdout",
     "output_type": "stream",
     "text": [
      "\n"
     ]
    }
   ],
   "source": [
    "string = ''\n",
    "print(string[:-1])"
   ]
  }
 ],
 "metadata": {
  "kernelspec": {
   "display_name": "Python 3",
   "language": "python",
   "name": "python3"
  },
  "language_info": {
   "codemirror_mode": {
    "name": "ipython",
    "version": 3
   },
   "file_extension": ".py",
   "mimetype": "text/x-python",
   "name": "python",
   "nbconvert_exporter": "python",
   "pygments_lexer": "ipython3",
   "version": "3.12.0"
  },
  "orig_nbformat": 4
 },
 "nbformat": 4,
 "nbformat_minor": 2
}
