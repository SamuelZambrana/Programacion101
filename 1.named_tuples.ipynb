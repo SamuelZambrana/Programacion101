{
 "cells": [
  {
   "cell_type": "markdown",
   "metadata": {},
   "source": [
    "# Named Tuples y procesamiento de secuencias\n",
    "\n",
    "\n",
    "------------------------"
   ]
  },
  {
   "cell_type": "markdown",
   "metadata": {},
   "source": [
    "## (0) Nóminas\n",
    "\n",
    "Observa el fichero `nominas.csv`. Tiene los datos de nómina de una empresa, en un formato llamado *csv* (averigua lo que es si no lo sabes). Tu trabajo es obtener, a partir de ese fichero, los siguientes datos:\n",
    "\n",
    "1. Comprueba que no haya repetidos\n",
    "2. El coste total de nóminas.\n",
    "3. Cuantos empleados tiene cada departamento\n",
    "4. Una lista de `named tuples` que representan un departamento y su coste total.\n",
    "5. El sueldo promedio\n",
    "6. El sueldo mínimo\n",
    "7. El sueldo máximo\n",
    "8. Un `set` con los empleados que tienen el sueldo mayor o igual a la media.\n",
    "\n",
    "Usa Divide & Vencerás\n",
    "\n",
    "Para ello, ten en cuenta lo siguiente:\n",
    "\n",
    "1. Tras leer el fichero, tienes los datos separados por saltos de linea (un empleado en cada linea).\n",
    "2. Intenta convertir esa cadena gigante en una lista de cadenas con los componentes del empleado separado por comas\n",
    "3. Crea una named tuple que representa a un empleado. Convierte cada una de esas lineas en una instancia de dicha tupla: tendrás un alista de tuplas. ¿Cómo te aseguras que ninguna está repetido?\n",
    "4. Procesa esa lista, usando `for` o las funciones de alto nivel que hemos creado para obtener 3, 4, 5, 6, 7.\n",
    "5. Crea una función que recibe una lista de empleados y un sueldo de corte, y devuelve un set con todos los que tienen un sueldo mayor o igual a ese. usala para responder a 7"
   ]
  },
  {
   "cell_type": "code",
   "execution_count": 64,
   "metadata": {},
   "outputs": [],
   "source": [
    "from collections import namedtuple\n",
    "def make_employee(name,surname,departament,salary):\n",
    "    Empleado = namedtuple('Empleado', 'Nombre Apellido Departamento Salario')\n",
    "    new_employed = Empleado(name, surname,departament,salary)\n",
    "    return new_employed"
   ]
  },
  {
   "cell_type": "code",
   "execution_count": 129,
   "metadata": {},
   "outputs": [],
   "source": [
    "\n",
    "def open_file(text_file: str) -> str:\n",
    "    \"\"\"\n",
    "    Abre mediante with open el fichero cuyo nombre te pasan\n",
    "    por parámetro y devuelve su contenido como una cadena\n",
    "    \"\"\"\n",
    "    # Con with open abrimos el archivo\n",
    "    # y con as file le damos un 'alias'\n",
    "    # para referirnos en adelante\n",
    "    with open(text_file, 'r', encoding='utf-8') as file:\n",
    "        # Leemos el contenido y lo metemos\n",
    "        # en una variable para devolverla\n",
    "        content = file.read()\n",
    "    return content\n",
    "    "
   ]
  },
  {
   "cell_type": "code",
   "execution_count": 66,
   "metadata": {},
   "outputs": [],
   "source": [
    "def to_lines(paragraph):\n",
    "    return paragraph.split('\\n')"
   ]
  },
  {
   "cell_type": "code",
   "execution_count": 145,
   "metadata": {},
   "outputs": [],
   "source": [
    "def has_repated(string_list):\n",
    "    repeated = False\n",
    "    if   len(set(string_list)) == len(string_list):\n",
    "        repeated = False\n",
    "    else:\n",
    "        repeated = True\n",
    "    return repeated\n",
    "\n",
    "    "
   ]
  },
  {
   "cell_type": "code",
   "execution_count": 67,
   "metadata": {},
   "outputs": [],
   "source": [
    "def to_tuplas(string_list):\n",
    "    new_tuple_list = []\n",
    "    for element in string_list[1:]:\n",
    "        cutted =  []\n",
    "        cutted = element.split(',')\n",
    "        employ = make_employee(cutted[0],cutted[1],cutted[2],int(cutted[3]))\n",
    "        new_tuple_list.append(employ)\n",
    "        \n",
    "       \n",
    "    return new_tuple_list"
   ]
  },
  {
   "cell_type": "code",
   "execution_count": 68,
   "metadata": {},
   "outputs": [],
   "source": [
    "def suma_nominas(tuplas):\n",
    "    min = tuplas[0].Salario\n",
    "    max = tuplas[0].Salario\n",
    "    sum = 0\n",
    "    for tupla in tuplas:\n",
    "        if tupla.Salario < min:\n",
    "            min = tupla.Salario\n",
    "        if tupla.Salario > max:\n",
    "            max = tupla.Salario\n",
    "        sum = sum + tupla.Salario\n",
    "        \n",
    "    return sum, min, max"
   ]
  },
  {
   "cell_type": "code",
   "execution_count": 138,
   "metadata": {},
   "outputs": [],
   "source": [
    "def dep_analizador(datos_empleados):\n",
    "    gasto_departamento = namedtuple('Gasto','Departamento, Gasto')\n",
    "    gastos_dict = dict()\n",
    "    return_list = []\n",
    "    for datos in datos_empleados[1:]:\n",
    "        if datos.Departamento in gastos_dict:\n",
    "            gastos_dict[datos.Departamento] += datos.Salario\n",
    "        else:\n",
    "            gastos_dict[datos.Departamento] = datos.Salario\n",
    "    for element in gastos_dict:\n",
    "        newtupla =  gasto_departamento(element, gastos_dict[element])\n",
    "        return_list.append(newtupla)\n",
    "    return return_list"
   ]
  },
  {
   "cell_type": "code",
   "execution_count": 143,
   "metadata": {},
   "outputs": [],
   "source": [
    "def cuenta_empleados(datos_empleados):\n",
    "    empleados_departamento = namedtuple('Empleados','Departamento, numeroempleados')\n",
    "    cuenta_dict = dict()\n",
    "    return_list = []\n",
    "    for datos in datos_empleados[1:]:\n",
    "        if datos.Departamento in cuenta_dict:\n",
    "            cuenta_dict[datos.Departamento] += 1\n",
    "        else:\n",
    "            cuenta_dict[datos.Departamento] = 1\n",
    "    for element in cuenta_dict:\n",
    "        newtupla=  empleados_departamento(element, cuenta_dict[element])\n",
    "        return_list.append(newtupla)\n",
    "    print(return_list)\n",
    "    return return_list"
   ]
  },
  {
   "cell_type": "code",
   "execution_count": null,
   "metadata": {},
   "outputs": [],
   "source": []
  },
  {
   "cell_type": "code",
   "execution_count": 136,
   "metadata": {},
   "outputs": [],
   "source": [
    "def empleados_from(emploeers, sueldo_promedio):\n",
    "    newlist = []\n",
    "    for tupla in emploeers:\n",
    "        if tupla.Salario > sueldo_promedio:\n",
    "            newlist.append(tupla)\n",
    "    return set(newlist)"
   ]
  },
  {
   "cell_type": "code",
   "execution_count": 133,
   "metadata": {},
   "outputs": [],
   "source": [
    "def calculate_salaries(file):\n",
    "    # Primero sacamos el contenido del achivo\n",
    "    contenido = open_file(file)\n",
    "    \n",
    "    \n",
    " \n",
    "    separated = to_lines(contenido)\n",
    "    \n",
    "  \n",
    "\n",
    "    lolels = to_tuplas(separated)\n",
    "    \n",
    "    total_nominas, sueldo_minimo, sueldo_maximo = suma_nominas(lolels)\n",
    "    \n",
    "    empleados_por_departamento = cuenta_empleados(lolels)\n",
    "    numero_empleados = len(lolels)\n",
    "\n",
    "    coste_departamento = dep_analizador(lolels)\n",
    "\n",
    "    sueldo_promedio = total_nominas/ numero_empleados\n",
    "    \n",
    "    salarios_mas_altos = empleados_from(lolels, sueldo_promedio)\n",
    "\n",
    "    \n",
    "\n",
    "\n",
    "    return None\n",
    "\n",
    "\n",
    "\n"
   ]
  },
  {
   "cell_type": "code",
   "execution_count": 146,
   "metadata": {},
   "outputs": [
    {
     "name": "stdout",
     "output_type": "stream",
     "text": [
      "[Empleados(Departamento='Desarrollo', numeroempleados=5), Empleados(Departamento='Dirección', numeroempleados=14), Empleados(Departamento='Marketing', numeroempleados=16), Empleados(Departamento='Ventas', numeroempleados=14), Empleados(Departamento='Administración', numeroempleados=10)]\n"
     ]
    }
   ],
   "source": [
    "calculate_salaries('nominas.csv')"
   ]
  },
  {
   "cell_type": "code",
   "execution_count": 150,
   "metadata": {},
   "outputs": [
    {
     "name": "stdout",
     "output_type": "stream",
     "text": [
      "('andres', 'marquez', 'Ventas', 999999)\n",
      "andres\n",
      "marquez\n",
      "Ventas\n",
      "999999\n"
     ]
    }
   ],
   "source": [
    "new_name = 'andres'\n",
    "new_surname = 'marquez'\n",
    "new_department = 'Ventas'\n",
    "new_salary = 999999\n",
    "employee = new_name,new_surname,new_department,new_salary\n",
    "print(employee)\n",
    "a, b, c, d = employee\n",
    "print(a)\n",
    "print(b)\n",
    "print(c)\n",
    "print(d)"
   ]
  },
  {
   "cell_type": "markdown",
   "metadata": {},
   "source": [
    "## (1) Base de datos de dicts\n",
    "\n",
    "Tienes que organizar estos datos de mejor manera. Un fichero de texto o una lista no es adecuado. Lee el fichero y transforma esos datos en un diccionario, llamado `base_de_datos` con la siguintes características:\n",
    "\n",
    "1. La clave es el nombre del departamento\n",
    "2. El valor para cada departamento es un `set`  de empleados de dicho departamento.\n",
    "\n",
    "**Tareas**\n",
    "\n",
    "1. Crea una función `make_db` que recib eel nombre del fichero y devuelve la *base de datos* (el `dict`). Si se produce algún error, devuelve una excepción.\n",
    "2. Crea una función `employees_per_department` que recibe la base de datos y el nombre del departamento. Si el departamento existe, devuelve el número de empleados. Si no existe, lanza un `ValueError`.\n",
    "3. Crea la función `total_cost` que recib ela base de datos y el nombre del departamento. Si el departamento existe, devuelve el coste total de dicho departamento. Si no existe, devuelve un `ValueError`.\n",
    "4. \n"
   ]
  },
  {
   "cell_type": "markdown",
   "metadata": {},
   "source": [
    "## Conclusiones\n",
    "\n",
    "1. ¿Te ha salido? Enhorabuena, has resuelto algo más complejo que una prueba de acceso real para programador jr.\n",
    "2. Mira el fichero  `nomina.py`:\n",
    "   1. ¿Qué pasaría si no tuviese el truco del `if __name__ == \"__main__\":` y alguien lo *importase*?\n",
    "   2. Averigua qué es eso de pandas que se usa en el script."
   ]
  }
 ],
 "metadata": {
  "kernelspec": {
   "display_name": "Python 3",
   "language": "python",
   "name": "python3"
  },
  "language_info": {
   "codemirror_mode": {
    "name": "ipython",
    "version": 3
   },
   "file_extension": ".py",
   "mimetype": "text/x-python",
   "name": "python",
   "nbconvert_exporter": "python",
   "pygments_lexer": "ipython3",
   "version": "3.12.0"
  }
 },
 "nbformat": 4,
 "nbformat_minor": 2
}
