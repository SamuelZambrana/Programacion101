{
 "cells": [
  {
   "attachments": {},
   "cell_type": "markdown",
   "metadata": {},
   "source": [
    "## Area de un triágulo\n",
    "\n",
    "El área de un triángulo es un poco chungo de calcular, porque depende del tipo de triángulo (equilátero, escaleno o isóceles).\n",
    "\n",
    "Hay sin embargo una fórmula genérica. Para poder aplicarla, tenemos que calcular el *semi-perímetro* primero:\n",
    "\n",
    "$$sp = \\frac{(lado1 + lado2 + lado3)}{2}$$\n",
    "\n",
    "Ahora el área se calcula como.\n",
    "\n",
    "\n",
    "$$\\sqrt{sp * (sp - lado1) * (sp - lado2) * (sp -lado3)}$$\n",
    "\n",
    "\n",
    "Crea una función que:\n",
    "* recibe los 3 lados\n",
    "* usa la función `sqrt` \n",
    "* devuelve el area"
   ]
  },
  {
   "cell_type": "code",
   "execution_count": 1,
   "metadata": {},
   "outputs": [],
   "source": [
    "import math\n",
    "def triangle_area(side1, side2, side3):\n",
    "  \"\"\"\n",
    "  Calcula el area de cualquier triángulo usando el semiperímetro\n",
    "  \"\"\"\n",
    "  sp=(side1 +side2 + side3)/2\n",
    "  assert sp * (sp - side1) * (sp - side2) * (sp - side3)>=0\n",
    "\n",
    "  return math.sqrt(sp * (sp - side1) * (sp - side2) * (sp - side3))"
   ]
  },
  {
   "cell_type": "code",
   "execution_count": 3,
   "metadata": {},
   "outputs": [
    {
     "data": {
      "text/plain": [
       "3.897114317029974"
      ]
     },
     "execution_count": 3,
     "metadata": {},
     "output_type": "execute_result"
    }
   ],
   "source": [
    "triangle_area(3, 3, 3)\n",
    "'''se podria hacer un raise para capturar el error en lugar de un assert'''"
   ]
  },
  {
   "attachments": {},
   "cell_type": "markdown",
   "metadata": {},
   "source": [
    "## Area de una esfera\n",
    "\n",
    "La fórmula para el área de una esfera es la siguiente:\n",
    "\n",
    "$$area = 4 * \\pi * radio^{2}$$\n",
    "\n",
    "1. Crea una función que calcula el area de la esfera\n",
    "2. Usa el $\\pi$ de `math`"
   ]
  },
  {
   "cell_type": "code",
   "execution_count": 4,
   "metadata": {},
   "outputs": [],
   "source": [
    "pi = 3.14159261\n",
    "def area_sfere(radio):\n",
    "\n",
    "  return 4*pi*radio**2"
   ]
  },
  {
   "cell_type": "code",
   "execution_count": 5,
   "metadata": {},
   "outputs": [
    {
     "data": {
      "text/plain": [
       "113.09733396"
      ]
     },
     "execution_count": 5,
     "metadata": {},
     "output_type": "execute_result"
    }
   ],
   "source": [
    "area_sfere(3)"
   ]
  },
  {
   "attachments": {},
   "cell_type": "markdown",
   "metadata": {},
   "source": [
    "## Volúmen de una esfera\n",
    "\n",
    "$$volumen = \\frac{\\pi * radio^{3}}{3}$$\n",
    "\n",
    "1. función que recibe el radio y calcula el volumen\n",
    "2. Usa el $\\pi$ de `math`"
   ]
  },
  {
   "cell_type": "code",
   "execution_count": 6,
   "metadata": {},
   "outputs": [],
   "source": [
    "def vol_sfere(radio):\n",
    "\n",
    "  return 4*pi*radio**3/3"
   ]
  },
  {
   "cell_type": "code",
   "execution_count": 7,
   "metadata": {},
   "outputs": [
    {
     "data": {
      "text/plain": [
       "113.09733396"
      ]
     },
     "execution_count": 7,
     "metadata": {},
     "output_type": "execute_result"
    }
   ],
   "source": [
    "vol_sfere(3)"
   ]
  },
  {
   "attachments": {},
   "cell_type": "markdown",
   "metadata": {},
   "source": [
    "## Los gringos y sus unidades absurdas\n",
    "\n",
    "Cuando vivía en EEUU, una de las cosas que más problemas me dió fueron sus unidades desquiciadas: onzas, onzas fluidas, millas, yardas y un sinfín de absurdeces que hacen que una tarea cotidiana se convierta en un desafío hercúleo.\n",
    "\n",
    "La cosa, lamentablemente, no termina ahí. También usan subdivisiones de dichas unidades. Esas subdivisiones no pueden lógicamente, ser decimales. Normalmente usan octavos (tal cual).\n",
    "\n",
    "### Mi némesis particular: el octavo de milla\n",
    "\n",
    "Vas por la carretera y waze te pega un grito, diciendo que tienes que salir a la derecha dentro de *3 octavos de milla*. ¿Mande?\n",
    "\n",
    "![](octavos_de_milla.jpg)\n",
    "\n",
    "Te pones a echar cuentas, y cuando terminas, ves que era justo ahí atrás.\n",
    "\n",
    "Para evitar esto, vas a hacer una función que transforma octavos de milla en metros.\n",
    "\n",
    "1. Recibes el número de octavos de milla\n",
    "2. Tienes una variable dentro de tu fución con la correspondencia millas a metros (1609.344 metros por milla)\n",
    "3. Con eso calculas el total de metros y lo devuelves\n",
    "4. Usa la función `round` de Python (está en el ámbito global) para devolver un número entero (a nadie le importan los cm)\n",
    "   "
   ]
  },
  {
   "cell_type": "code",
   "execution_count": 8,
   "metadata": {},
   "outputs": [],
   "source": [
    "def eighth_to_m(value):\n",
    "  mileMeterRate = 1609.344\n",
    "  return round(mileMeterRate*value/8)\n"
   ]
  },
  {
   "cell_type": "code",
   "execution_count": 9,
   "metadata": {},
   "outputs": [
    {
     "data": {
      "text/plain": [
       "805"
      ]
     },
     "execution_count": 9,
     "metadata": {},
     "output_type": "execute_result"
    }
   ],
   "source": [
    "eighth_to_m(4)"
   ]
  },
  {
   "attachments": {},
   "cell_type": "markdown",
   "metadata": {},
   "source": [
    "## Edad\n",
    "\n",
    "1. Crea una función que recibe tu año de nacimiento y calcula tu edad en años\n",
    "2. Crea una función que hace lo mismo pero te devuelve la edad en días (olvídate de los años bisiestos)\n",
    "\n",
    "¿Se podría reaprovechar al primera función a la hora de crear la segunda y no repetir código? **DRY**"
   ]
  },
  {
   "cell_type": "code",
   "execution_count": 10,
   "metadata": {},
   "outputs": [],
   "source": [
    "from datetime import date\n",
    "from datetime import datetime\n",
    "def years_fron_birth(a=None):\n",
    "  if a == None:\n",
    "    birthanno= int(input(\"Introduzca año de nacimiento \"))\n",
    "  else:\n",
    "    birthanno=a\n",
    "  anno = date.today()\n",
    "  return anno.year - birthanno"
   ]
  },
  {
   "cell_type": "code",
   "execution_count": 11,
   "metadata": {},
   "outputs": [
    {
     "data": {
      "text/plain": [
       "45"
      ]
     },
     "execution_count": 11,
     "metadata": {},
     "output_type": "execute_result"
    }
   ],
   "source": [
    "years_fron_birth(1978)"
   ]
  },
  {
   "attachments": {},
   "cell_type": "markdown",
   "metadata": {},
   "source": [
    "## BMI: índice de masa corporal\n",
    "\n",
    "La operación bikini se aproxima y lo primero es saber cúanto tienes que adelgazar. Para eso, nada mejor que el [BMI](https://www.nhlbi.nih.gov/health/educational/lose_wt/BMI/bmi-m.htm).\n",
    "\n",
    "EL BMI es un índice (un número) que se obtiene a partir de tu peso y altura y según dicho valor, se sabe si están en tu peso ideal, por encima del mismo o por debajo (no te lo crees ni tú).\n",
    "\n",
    "La fórmula, usando Kg para el peso y m para la altura es:\n",
    "\n",
    "$$bmi = \\frac{peso}{altura^{2}}$$\n",
    "\n",
    "1. crea la función `bmi` que recibe peso y altura (en Kg y m)\n",
    "2. devuelve el bmi\n",
    "\n"
   ]
  },
  {
   "cell_type": "code",
   "execution_count": null,
   "metadata": {},
   "outputs": [],
   "source": [
    "def imb_calculator(height, weight):\n",
    "  return weight/height**2\n"
   ]
  },
  {
   "cell_type": "code",
   "execution_count": null,
   "metadata": {},
   "outputs": [],
   "source": [
    "imb_calculator(186, 100)"
   ]
  },
  {
   "attachments": {},
   "cell_type": "markdown",
   "metadata": {},
   "source": [
    "## Euros a Pesetas\n",
    "\n",
    "Una función para los nostálgicos: vamos a convertir precios en Euros a Pesetas. La tasa de conversión es: 166 Pesetas por Euro.\n",
    "\n",
    "1. Crea la función `euro_to_pta` que recibe un número de euros y te devuelve la cantidad de Pesetas\n",
    "2. Ahora crea la función `pta_to_euro`que hace lo opuesto.\n",
    "   1. ¿Podrías implementar `pta_to_euro` llamando a `euro_to_pta` (para reaprovechar código)?\n",
    "   \n"
   ]
  },
  {
   "cell_type": "code",
   "execution_count": 12,
   "metadata": {},
   "outputs": [],
   "source": [
    "def euro_to_pta(eur=1):\n",
    "  return eur*166.386\n",
    "\n",
    "def pta_to_euro(pta):\n",
    "  return pta/166.386\n",
    "\n",
    "def pta_to_euro2(pta):\n",
    "  return 1/euro_to_pta(1/pta)\n",
    "\n",
    "def pta_to_euro3(pta):\n",
    "  return pta/euro_to_pta()\n",
    "\n",
    "def pta_to_euro4(pta):\n",
    "  return euro_to_pta(pta**-1)**-1"
   ]
  },
  {
   "cell_type": "code",
   "execution_count": 13,
   "metadata": {},
   "outputs": [
    {
     "data": {
      "text/plain": [
       "499"
      ]
     },
     "execution_count": 13,
     "metadata": {},
     "output_type": "execute_result"
    }
   ],
   "source": [
    "round(euro_to_pta(3))"
   ]
  },
  {
   "cell_type": "code",
   "execution_count": 14,
   "metadata": {},
   "outputs": [
    {
     "data": {
      "text/plain": [
       "12"
      ]
     },
     "execution_count": 14,
     "metadata": {},
     "output_type": "execute_result"
    }
   ],
   "source": [
    "round(pta_to_euro(2000))"
   ]
  },
  {
   "cell_type": "code",
   "execution_count": 15,
   "metadata": {},
   "outputs": [
    {
     "data": {
      "text/plain": [
       "12"
      ]
     },
     "execution_count": 15,
     "metadata": {},
     "output_type": "execute_result"
    }
   ],
   "source": [
    "round(pta_to_euro2(2000))"
   ]
  },
  {
   "cell_type": "code",
   "execution_count": 16,
   "metadata": {},
   "outputs": [
    {
     "data": {
      "text/plain": [
       "12"
      ]
     },
     "execution_count": 16,
     "metadata": {},
     "output_type": "execute_result"
    }
   ],
   "source": [
    "round(pta_to_euro3(2000))"
   ]
  },
  {
   "cell_type": "code",
   "execution_count": 17,
   "metadata": {},
   "outputs": [
    {
     "data": {
      "text/plain": [
       "12"
      ]
     },
     "execution_count": 17,
     "metadata": {},
     "output_type": "execute_result"
    }
   ],
   "source": [
    "round(pta_to_euro4(2000))"
   ]
  },
  {
   "attachments": {},
   "cell_type": "markdown",
   "metadata": {},
   "source": [
    "## Energía cinética\n",
    "\n",
    "Crea la función cinetic_energy(mass, speed) que acepta la masa y la velocidad de un objeto y devuelve la energía cinética del objeto, calculada con la fórmula: E = (1/2)mv²."
   ]
  },
  {
   "cell_type": "code",
   "execution_count": 18,
   "metadata": {},
   "outputs": [],
   "source": [
    "def cinetic_energy(mass, speed):\n",
    "  return (mass*speed**2)/2"
   ]
  },
  {
   "cell_type": "code",
   "execution_count": 20,
   "metadata": {},
   "outputs": [
    {
     "data": {
      "text/plain": [
       "5000.0"
      ]
     },
     "execution_count": 20,
     "metadata": {},
     "output_type": "execute_result"
    }
   ],
   "source": [
    "cinetic_energy(100, 10)"
   ]
  },
  {
   "attachments": {},
   "cell_type": "markdown",
   "metadata": {},
   "source": [
    "## 🛎️ 🧢 Funciones Reversibles\n",
    "\n",
    "Las funciones son mecanismos que transforman una cosa en otra: te llevan de A a B. Por ejemplo, te llevan de (peso, altura) a bmi, o de radio a area, etc.\n",
    "\n",
    "> Se dice que **mapean** su entrada a su salida\n",
    "\n",
    "![](función.png)\n",
    "\n",
    "A veces, se puede conseguir encontrar la *función inversa* de una cierta función:\n",
    "\n",
    "\n",
    "Si *f* es una función que te lleva de *A* a *B*,\n",
    "\n",
    "entonces *f_inv* es una función que te lleva de *B* a *A* \n",
    "\n",
    "> **f_inv** es la **inversa** de **f**\n",
    "\n",
    "### Ejercicio\n",
    "\n",
    "1. La función ¿`euro_to_peseta` es reversible?\n",
    "2. La función `abs` de Python ¿es reversible?\n",
    "3. La función `bmi` es reversible?\n",
    "\n",
    "### Funciones reversibles estimables\n",
    "\n",
    "Son aquellas que, aunque no se puede obtnere una función inversa de forma directa, *si tenemos más información*, podemos estimar un input probable a aprtir del output.\n",
    "\n",
    "Por ejermplo, la función `bmi`. \n",
    "\n",
    ">Si tenemos muchos datos de alturas y pesos promedios o cómo suelen ir emparejados, a partir de un bmi podríamos estimar posibles combinaciones de altura y peso que sean más probables.**Esto es lo que hace el Deep Learning y las redes neuronales**.\n",
    "\n",
    "### Funciones Irreversibles\n",
    "\n",
    "Son aquellas que son de un sólo sentido y no hay manera práctica de obtener su inversa. Tienen una enorme importancia en la Ciencia de la Computación, especialmente en la criptografía:\n",
    "\n",
    "![](cripto.png)\n",
    "\n",
    "\n",
    "* Cada vez que ves en tu browser una [URL](https://keepcoding.io/blog-frr/que-es-una-url-y-una-uri/) que empieza por `https`, quiere decir que todo lo que te manda el servidor y lo que mandas tú está encriptado mediante una función irreversible. Por ejemplo, cuando pones datos de tu tarjeta al comprar algo.\n",
    "* Otro caso, más sencillo de funciones irreversibles que veremso (por encima) son las *funciones hash* (más adelante)\n",
    "\n"
   ]
  },
  {
   "attachments": {},
   "cell_type": "markdown",
   "metadata": {},
   "source": [
    "## Ecuación de 2º Grado\n",
    "\n",
    "Tienes la siguiente *ecuación de segundo grado* (¿te acuerdas?):\n",
    "\n",
    "$$y = x^{2} + 3 * x - 2$$\n",
    "\n",
    "1. Crea la función que calcula y recibe x.\n",
    "\n",
    "### ¿Reversible?\n",
    "\n",
    "Las funciones (o ecuaciones) cuadráticas (2º grado) ¿son reversibles?"
   ]
  },
  {
   "cell_type": "code",
   "execution_count": 21,
   "metadata": {},
   "outputs": [],
   "source": [
    "from math import sqrt as sq\n",
    "def second_grade_equation(a, b, c):\n",
    "  try:\n",
    "    return(round((-b+sq((b**2)-4*a*c)),2)/(2*a),round((-b-sq((b**2)-4*a*c))/(2*a),2))\n",
    "  except:\n",
    "    return round(-c/b,2)"
   ]
  },
  {
   "cell_type": "code",
   "execution_count": 22,
   "metadata": {},
   "outputs": [
    {
     "data": {
      "text/plain": [
       "0.25"
      ]
     },
     "execution_count": 22,
     "metadata": {},
     "output_type": "execute_result"
    }
   ],
   "source": [
    "second_grade_equation(0, -4, 1)"
   ]
  },
  {
   "attachments": {},
   "cell_type": "markdown",
   "metadata": {},
   "source": [
    "## 🛎️ Funciones Totales y Parciales\n",
    "\n",
    "Tenemos estas dos funciones matemáticas y tienes que crear las funciones de Python equivalentes\n",
    "\n",
    "$$a) f(x,y) = \\frac{x^{2} + y^{2}}{x - y}$$\n",
    "\n",
    "$$b) f(m,n) = \\frac{m^{2} - n^{2} + n}{m * n}$$\n",
    "\n",
    "\n",
    "1. Prueba ambas funciones con varios valores para asegurarte que funcionan bien.\n",
    "2. ¿Hay algún valor de x o y que haga que haga que (a) estalle?\n",
    "3. ¿Hay algún valor de m o n que haga que (b) estalle?\n",
    "4. En la función cuadrática anterior, ¿hay algún valor de x que haga que la función estalle?\n",
    "\n",
    "\n",
    "> Una función es **total** si acepta todos los posibles valores de sus parámetros.\n",
    "\n",
    "La *función cuadrática* anterior es **total**: acepta números y traga con cualquier número posible.\n",
    "\n",
    "> Una función es **parcial** si hay uno o más valores de sus parámetros que hacen que no pueda hacer su trabajo\n",
    "\n",
    "Las funciones (a) y (b) son **parciales**\n",
    "\n",
    "* Si x e y son iguales, a f(x,y) le dá un jamacuco\n",
    "* Si m o n son cero, a f(m,n) le dá un jamacuco\n",
    "\n",
    "\n",
    "## Conclusión\n",
    "\n",
    "Lo ideal sería que todas nuestras funciones fuesen *funciones totales*, facilitaría mucho nuestra vida. \n",
    "\n",
    "Como bien sabrás, la vida no es fácil y habrá muchas *funciones parciales* de por medio. En esos casos, \n",
    "\n",
    "* tendremos que identificar las *condiciones excepcionales* (los valores que causan el jamacuco)\n",
    "* cunado se den, tendremso que *gestionar dicho error*\n",
    "\n",
    "La *gestión de errores* se verá con calma más adelante, pero ya eres consciete de su necesidad.\n",
    "\n",
    "## Ejercicio\n",
    "\n",
    "Repasa todas las funciones que has creado hasta ahora y clasifícalas como *totales* o *parciales*. \n",
    "Si son parciales, identifica las *condiciones excepcionales*."
   ]
  },
  {
   "attachments": {},
   "cell_type": "markdown",
   "metadata": {},
   "source": [
    "## Distancia entre dos puntos en el plano cartesiano\n",
    "\n",
    "![](point_distance.gif)\n",
    "\n",
    "\n",
    " Si tenemos dos puntos:\n",
    "\n",
    " $$p_{1}(x_{1}, y_{1})$$ \n",
    " $$p_{2}(x_{2}, y_{2})$$\n",
    "\n",
    " su *distancia cartesiana* sería la siguiente:\n",
    "\n",
    " $$dc = \\sqrt{(x_{1} - x_{2})^{2} + (y_{1} - y_{2})^{2}}$$\n",
    "\n",
    "\n",
    " 1. Crear una función que recibe la xe y del primer punto y la x e y del segundo punto\n",
    " 2. Devuelve la distancia cartesiana\n",
    "\n",
    "\n",
    "### Curiosidad\n",
    "\n",
    "Esta es la *distancia cartesiana*, pero hay otros tipos de distancias definidas entre puntos.\n",
    "\n",
    "La *distancia cartesiana* es la primera que te muestra Google Maps o Waze cunado pides que te lleve a algún sitio. Normalmente cuando pides que calcule la ruta, te llevas un chasco, porque te da otra distancia mayor. ¿¿Por qué??\n",
    "\n",
    "Porque la distancia cartesiana sólo vale si puedes volar. Si tienes que ir entre calles, tendrás que dar vueltas y eso incrementa la distancia.\n",
    "\n",
    "> ¿Por qué crees que Google hace eso?\n",
    "\n",
    "\n",
    "Otra distancia, algo más realista para la navegación por ciudades, es la *distancia manhattan*. \n",
    "\n",
    "Averigua en la wikipedia qué es la distancia manhattan, por qué se llama así y cómo calcularla. Crea la función Python correspondiente.\n"
   ]
  },
  {
   "cell_type": "code",
   "execution_count": null,
   "metadata": {},
   "outputs": [],
   "source": [
    "from math import sqrt as sq\n",
    "def distance(x1, y1, x2, y2):\n",
    "  return sq((x1-x2)**2 + (y1-y2)**2)"
   ]
  },
  {
   "cell_type": "code",
   "execution_count": null,
   "metadata": {},
   "outputs": [],
   "source": [
    "distance(1,2,1,3)"
   ]
  },
  {
   "cell_type": "markdown",
   "metadata": {},
   "source": [
    "#  Distancia manhattan.\n",
    "lude al diseño en cuadrícula de la mayoría de las calles de la isla de Manhattan, lo que causa que el camino más corto que un auto puede tomar entre dos puntos de la ciudad.\n",
    "\n",
    "\n",
    "![image.png](data:image/png;base64,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)"
   ]
  },
  {
   "cell_type": "code",
   "execution_count": null,
   "metadata": {},
   "outputs": [],
   "source": [
    "def manhattan_distance(x1, y1, x2, y2):\n",
    "  return abs(x1-x2) + abs(y1-y2)"
   ]
  },
  {
   "cell_type": "code",
   "execution_count": null,
   "metadata": {},
   "outputs": [],
   "source": [
    "manhattan_distance(10, 10, 5, 5)"
   ]
  },
  {
   "attachments": {},
   "cell_type": "markdown",
   "metadata": {},
   "source": [
    "## Area de un triángulo a partir de sus vértices\n",
    "\n",
    " Si tenemos los 3 vértices de un triángulo, podemos calcular su área. Necesitaremos al función `abs` de Python\n",
    "\n",
    " ![](vertices.png)\n",
    "\n",
    " $$área = \\frac{\\mid x_{1} * (y_{2} - y_{3}) + x_{2} * (y_{3} - y_{1}) + x_{3} * (y_{1} - y_{2})\\mid}{2}$$\n",
    "\n",
    " 1. Crea la función `area_vert(x1, y1, x2,y2, x3, y3)` que recibe las 6 coordenadas de los 3 puntos y calcula el área.\n",
    "\n",
    "\n"
   ]
  },
  {
   "cell_type": "code",
   "execution_count": null,
   "metadata": {},
   "outputs": [],
   "source": [
    "def area_vert(x1, y1, x2,y2, x3, y3):\n",
    "  return abs(x1*(y2-y3)+x2*(y3-y1)+x3*(y1-y2))/2"
   ]
  },
  {
   "cell_type": "code",
   "execution_count": null,
   "metadata": {},
   "outputs": [],
   "source": [
    "area_vert(1, 1, 1, 3, 3, 1)"
   ]
  },
  {
   "attachments": {},
   "cell_type": "markdown",
   "metadata": {},
   "source": [
    "## 🛎️ 🧢 Mi animal totémico está enfurecido\n",
    "\n",
    "La función de la distancia cartesiana ya me tocó un poco los cataplines, porque necesitaba 4 parámetros para representar los dos puntos.\n",
    "\n",
    "Ahora, resulta que necesito *seis parámetros* para los 3 cochinos vértices del triángulo de las narices.\n",
    "\n",
    "> Es demasiado trabajo. Tiene que haber una forma mejor de hacerlo.\n",
    "\n",
    "### Abstracción al rescate\n",
    "\n",
    "El concepto de abstracción era precisamente *empaquetar una o varias cosas, olvidarnos de sus tripas (caja negra) y tratarla como una sóla entidad*.\n",
    "\n",
    "Esa es la salida a nuestro problema: \n",
    "\n",
    "> Tenemos que buscar una forma de empaquetar las dos coordenadas en un solo concepto (punto) y tratarlo como una sola cosa.\n",
    "\n",
    "Ya hemos visto un ejemplo de algo así en Python. Recuerda los *módulos*:\n",
    "\n",
    "1. Representan todas las definiciones globales que hay dentro de un fichero. \n",
    "2. Por ejemplo el módulo `math` *aglutina* todas esas definiciones y te permite tratarlas como una sola cosa, llamada `math`\n",
    "3. Para acceder a alguno de sus componentes, usamos punto: `math.pi`\n",
    "\n",
    "\n",
    "**No estaría de más poder hacer algo así con los puntos** y acceder a ellos de la siguiente manera: `punto1.y` o `punto1.x`\n",
    "\n",
    "La función `area_vert` tendría una pinta más sencilla:\n",
    "\n",
    "\n",
    "```python\n",
    "def area_vert(v1, v2, v3):\n",
    "    # Recibes los vertices que encapsulan o agrupan\n",
    "    # las dos coordenadas x e y\n",
    "    # Para hacer la cuentas, si necesitas acceder a una\n",
    "    # de ellas, harías v1.x o v2.y, etc..\n",
    "```\n",
    "\n",
    "![](objeto.jpg)"
   ]
  },
  {
   "attachments": {},
   "cell_type": "markdown",
   "metadata": {},
   "source": [
    "## Abstracciones\n",
    "\n",
    "Hemos visto dos abstraciones hasta ahora:\n",
    "\n",
    "1. **Abstracción de Variable**: Pillo un dato, lo meto dentro de una cajita y le doy un nombre. Me *permite reutilizar datos*.\n",
    "2. **Abstracción de Función**: Pillo una expresión, la meto en una cajita y le doy un nombre. Me *permite reutilizar expresiones*.\n",
    "\n",
    "\n",
    "Ahora hemos visto una tercera,\n",
    "\n",
    "> **Abstración de Objeto**: pillo varias variables (en ¡incluso varias funciones!), las meto en una cajita y le doy un nombre. Me permite reutilizar esos conjuntos de variables y funciones y acceda a ellas mediante un punto.\n",
    "\n",
    "Si te fijas, una engloba a otra, como las muñecas rusas:\n",
    "\n",
    "![](matryoshka.jpg)\n",
    "\n",
    "\n",
    "En el fondo, **no son más que diferentes formas de empaquetar cosas** en *cajas negras* y olvidarnos un poco de su *contenido y detalles internos*. Es decir, vagancia productiva.\n",
    "\n",
    "![](abstracciones.png)\n",
    "\n",
    "\n"
   ]
  },
  {
   "attachments": {},
   "cell_type": "markdown",
   "metadata": {},
   "source": [
    "## Abstracción de Objeto\n",
    "\n",
    "Más adelante ya veremos con detalle la *abstracción de objeto* con detalle. Sin embargo, ya has sentido en tus carnes la necesidad que nos ha llevado a inventarla. De momento seguiremos con la *abstracción de variable* y la *abstracción de función*.\n",
    "\n"
   ]
  },
  {
   "attachments": {},
   "cell_type": "markdown",
   "metadata": {},
   "source": [
    "------------------------\n",
    "\n",
    "# ¿Qué hemos aprendido?\n",
    "\n",
    "![](https://i.ytimg.com/vi/8PVeLqWnaXk/maxresdefault.jpg)\n",
    "\n",
    "* Las funciones pueden ser:\n",
    "  * Reversibles\n",
    "  * Irreversibles (buenas para cripto)\n",
    "  * Reversibles estimables (carne de red neuronal)\n",
    "  * Totales (chachi)\n",
    "  * Parciales (hay que identificar los errores y gestionarlos, con calma más adelante)\n",
    "\n",
    "Hay 3 tipos de abstraciones:\n",
    "* Variable\n",
    "* Función \n",
    "* Objeto (veremos con calma más adelante)\n",
    "* Los 3 casos son formas de vaguear, hacer más con menos y olvidarnos de detalles irrelevantes"
   ]
  },
  {
   "attachments": {},
   "cell_type": "markdown",
   "metadata": {},
   "source": [
    "A ejercicos de funciones de cadenas"
   ]
  }
 ],
 "metadata": {
  "kernelspec": {
   "display_name": "Python 3",
   "language": "python",
   "name": "python3"
  },
  "language_info": {
   "codemirror_mode": {
    "name": "ipython",
    "version": 3
   },
   "file_extension": ".py",
   "mimetype": "text/x-python",
   "name": "python",
   "nbconvert_exporter": "python",
   "pygments_lexer": "ipython3",
   "version": "3.12.0"
  },
  "orig_nbformat": 4
 },
 "nbformat": 4,
 "nbformat_minor": 2
}
