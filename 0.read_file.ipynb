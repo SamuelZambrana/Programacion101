{
 "cells": [
  {
   "cell_type": "markdown",
   "metadata": {},
   "source": [
    "# Leer de ficheros\n",
    "\n",
    "\n",
    "------------------\n"
   ]
  },
  {
   "attachments": {},
   "cell_type": "markdown",
   "metadata": {},
   "source": [
    "##### (0) Abrir, Leer y Cerrar\n",
    "\n",
    "Crea un fichero llamado `read.py` con el siguiente contenido:\n",
    "\n",
    "```Python\n",
    "\n",
    "def read_file(text_file: str)->str:\n",
    "    \"\"\"\n",
    "    Abre mediante with open el fichero cuyo nombre te pasan\n",
    "    por parámetro y devuelve su contenido como una cadena\n",
    "    \"\"\"\n",
    "    pass\n",
    "\n",
    "\n",
    "if __name__ == '__main__':\n",
    "    content = read_file('read.py')\n",
    "    print(content)\n",
    "```\n",
    "\n",
    "1. Implementa correctamente la función `read_file`.\n",
    "2. Llama a este fichero desde la terminal. ¿Qué hace?\n",
    "3. Averigua cómo usar el paquete `argparse` de Python para poder indicar el fichero que se va a leer e imprimir desde la line ade comandos."
   ]
  },
  {
   "cell_type": "markdown",
   "metadata": {},
   "source": []
  }
 ],
 "metadata": {
  "kernelspec": {
   "display_name": "Python 3",
   "language": "python",
   "name": "python3"
  },
  "language_info": {
   "codemirror_mode": {
    "name": "ipython",
    "version": 3
   },
   "file_extension": ".py",
   "mimetype": "text/x-python",
   "name": "python",
   "nbconvert_exporter": "python",
   "pygments_lexer": "ipython3",
   "version": "3.12.0"
  },
  "orig_nbformat": 4
 },
 "nbformat": 4,
 "nbformat_minor": 2
}
